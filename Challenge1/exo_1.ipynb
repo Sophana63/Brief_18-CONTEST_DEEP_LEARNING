{
 "cells": [
  {
   "cell_type": "markdown",
   "id": "dcb53202",
   "metadata": {},
   "source": [
    "### Exercice 1 - Réseau de neurone\n",
    "<hr>"
   ]
  },
  {
   "cell_type": "code",
   "execution_count": 2,
   "id": "f1c038ac",
   "metadata": {},
   "outputs": [],
   "source": [
    "# fonction relou\n",
    "def Relu(X):\n",
    "    if X > 0 : \n",
    "        return X\n",
    "    else :\n",
    "        return 0"
   ]
  },
  {
   "cell_type": "code",
   "execution_count": 5,
   "id": "0c4e6971",
   "metadata": {},
   "outputs": [
    {
     "data": {
      "text/plain": [
       "0"
      ]
     },
     "execution_count": 5,
     "metadata": {},
     "output_type": "execute_result"
    }
   ],
   "source": [
    "# création de la fonction\n",
    "def lin_reg(X, W, b):\n",
    "    return b + (X[0]*W[0]) + (X[1]*W[1]) + (X[2]*W[2]) + (X[3]*W[3])\n",
    "\n",
    "b = -3\n",
    "X = [1, -3.1, -7.2, 2.1]\n",
    "W = [2.1, 1.2, 0.3, 1.3]\n",
    "\n",
    "out1 = Relu(lin_reg(X, W, b))\n",
    "out1"
   ]
  },
  {
   "cell_type": "code",
   "execution_count": 7,
   "id": "ddf402fe",
   "metadata": {},
   "outputs": [
    {
     "data": {
      "text/plain": [
       "0"
      ]
     },
     "execution_count": 7,
     "metadata": {},
     "output_type": "execute_result"
    }
   ],
   "source": [
    "# données de la 2eme sortie\n",
    "W2 = [0.1, 1.2, 4.9, 3.1]\n",
    "b2 = -5\n",
    "\n",
    "out2 = Relu(lin_reg(X, W2, b2))\n",
    "out2"
   ]
  },
  {
   "cell_type": "code",
   "execution_count": 8,
   "id": "7d828338",
   "metadata": {},
   "outputs": [
    {
     "data": {
      "text/plain": [
       "0"
      ]
     },
     "execution_count": 8,
     "metadata": {},
     "output_type": "execute_result"
    }
   ],
   "source": [
    "# données de la 3eme sortie\n",
    "# w1=0.4 ; w2=2.6; w3=2.5; w4=3.8 et le biais b = -8\n",
    "W3 = [0.4, 2.6, 2.5, 3.8]\n",
    "b3 = -8\n",
    "\n",
    "out3 = Relu(lin_reg(X, W3, b3))\n",
    "out3"
   ]
  },
  {
   "cell_type": "code",
   "execution_count": 18,
   "id": "98fd3802",
   "metadata": {},
   "outputs": [
    {
     "data": {
      "text/plain": [
       "5.1"
      ]
     },
     "execution_count": 18,
     "metadata": {},
     "output_type": "execute_result"
    }
   ],
   "source": [
    "def linreg_next_layer(X, W, b):\n",
    "    return b + (X[0]*W[0]) + (X[1]*W[1]) + (X[2]*W[2])\n",
    "\n",
    "#les poids w1=1.1 ; w2=-4.1; w3=0.7 et le biais b = 5.1\n",
    "nX = [out1, out2, out3]\n",
    "nW = [1.1, -4.1, 0.7]\n",
    "nb = 5.1\n",
    "\n",
    "X4 = linreg_next_layer(nX, nW, nb)\n",
    "X4"
   ]
  },
  {
   "cell_type": "code",
   "execution_count": 15,
   "id": "db61703f",
   "metadata": {},
   "outputs": [
    {
     "data": {
      "text/plain": [
       "0.9939401985084158"
      ]
     },
     "execution_count": 15,
     "metadata": {},
     "output_type": "execute_result"
    }
   ],
   "source": [
    "import math\n",
    "from math import exp\n",
    "\n",
    "def activation_next_layer(X):\n",
    "    return 1/(1 + exp(-X)) \n",
    "\n",
    "activation_next_layer(X4)\n",
    "\n"
   ]
  },
  {
   "cell_type": "code",
   "execution_count": null,
   "id": "0d5c194d",
   "metadata": {},
   "outputs": [],
   "source": []
  }
 ],
 "metadata": {
  "kernelspec": {
   "display_name": "Python 3 (ipykernel)",
   "language": "python",
   "name": "python3"
  },
  "language_info": {
   "codemirror_mode": {
    "name": "ipython",
    "version": 3
   },
   "file_extension": ".py",
   "mimetype": "text/x-python",
   "name": "python",
   "nbconvert_exporter": "python",
   "pygments_lexer": "ipython3",
   "version": "3.9.12"
  }
 },
 "nbformat": 4,
 "nbformat_minor": 5
}
