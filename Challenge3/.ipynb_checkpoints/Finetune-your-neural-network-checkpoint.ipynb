{
 "cells": [
  {
   "cell_type": "markdown",
   "metadata": {},
   "source": [
    "# Finetune your Neural Network\n",
    "\n",
    "**Exercise objectives:**\n",
    "- `Finetune` the model optimizer\n",
    "- `Save` and `Load` a `trained neural network`\n",
    "\n",
    "<hr>\n",
    "\n",
    "Now that you have solid foundations of what Neural Networks, how to design their architecture and how to regularize them, let's take a closer look at the `.compile(loss = ..., metrics = ..., activation = ...)` part.\n",
    "\n",
    "# Data\n",
    "\n",
    "We will use the data from the `Boston Housing dataset`. \n",
    "\n",
    "Our goal is to `predict the values of the houses` (in k USD), and we will measure our models' performances  using the `Mean Absolute Error` metrics"
   ]
  },
  {
   "cell_type": "code",
   "execution_count": 1,
   "metadata": {},
   "outputs": [
    {
     "name": "stderr",
     "output_type": "stream",
     "text": [
      "C:\\ProgramData\\Anaconda3\\lib\\site-packages\\scipy\\__init__.py:146: UserWarning: A NumPy version >=1.16.5 and <1.23.0 is required for this version of SciPy (detected version 1.23.5\n",
      "  warnings.warn(f\"A NumPy version >={np_minversion} and <{np_maxversion}\"\n"
     ]
    }
   ],
   "source": [
    "import numpy as np\n",
    "import pandas as pd\n",
    "from tensorflow.keras.datasets import boston_housing\n",
    "import matplotlib.pyplot as plt\n",
    "import seaborn as sns\n",
    "%matplotlib inline"
   ]
  },
  {
   "cell_type": "code",
   "execution_count": 2,
   "metadata": {},
   "outputs": [
    {
     "data": {
      "text/plain": [
       "<AxesSubplot:ylabel='Count'>"
      ]
     },
     "execution_count": 2,
     "metadata": {},
     "output_type": "execute_result"
    },
    {
     "data": {
      "image/png": "[encoded data removed]",
      "text/plain": [
       "<Figure size 432x288 with 1 Axes>"
      ]
     },
     "metadata": {
      "needs_background": "light"
     },
     "output_type": "display_data"
    }
   ],
   "source": [
    "(X_train, y_train), (X_test, y_test) = boston_housing.load_data()\n",
    "X_train.shape\n",
    "sns.histplot(y_train)"
   ]
  },
  {
   "cell_type": "code",
   "execution_count": 3,
   "metadata": {},
   "outputs": [
    {
     "name": "stdout",
     "output_type": "stream",
     "text": [
      "<class 'pandas.core.frame.DataFrame'>\n",
      "RangeIndex: 404 entries, 0 to 403\n",
      "Data columns (total 13 columns):\n",
      " #   Column  Non-Null Count  Dtype  \n",
      "---  ------  --------------  -----  \n",
      " 0   0       404 non-null    float64\n",
      " 1   1       404 non-null    float64\n",
      " 2   2       404 non-null    float64\n",
      " 3   3       404 non-null    float64\n",
      " 4   4       404 non-null    float64\n",
      " 5   5       404 non-null    float64\n",
      " 6   6       404 non-null    float64\n",
      " 7   7       404 non-null    float64\n",
      " 8   8       404 non-null    float64\n",
      " 9   9       404 non-null    float64\n",
      " 10  10      404 non-null    float64\n",
      " 11  11      404 non-null    float64\n",
      " 12  12      404 non-null    float64\n",
      "dtypes: float64(13)\n",
      "memory usage: 41.2 KB\n"
     ]
    }
   ],
   "source": [
    "pd.DataFrame(X_train).info()"
   ]
  },
  {
   "cell_type": "code",
   "execution_count": 4,
   "metadata": {},
   "outputs": [
    {
     "name": "stdout",
     "output_type": "stream",
     "text": [
      "0       3.745111\n",
      "1      11.480198\n",
      "2      11.104431\n",
      "3       0.061881\n",
      "4       0.557356\n",
      "5       6.267082\n",
      "6      69.010644\n",
      "7       3.740271\n",
      "8       9.440594\n",
      "9     405.898515\n",
      "10     18.475990\n",
      "11    354.783168\n",
      "12     12.740817\n",
      "dtype: float64\n"
     ]
    }
   ],
   "source": [
    "pd.DataFrame(X_train).describe()\n",
    "pred = pd.DataFrame(X_train).mean()\n",
    "print(pred)"
   ]
  },
  {
   "cell_type": "markdown",
   "metadata": {},
   "source": [
    "❓ **Question** ❓ Standardize `X_train` and `X_test` set without data leakage, and replace them keeping similar variable names"
   ]
  },
  {
   "cell_type": "code",
   "execution_count": 5,
   "metadata": {},
   "outputs": [
    {
     "name": "stdout",
     "output_type": "stream",
     "text": [
      "[[-0.27224633 -0.48361547 -0.43576161 ...  1.14850044  0.44807713\n",
      "   0.8252202 ]\n",
      " [-0.40342651  2.99178419 -1.33391162 ... -1.71818909  0.43190599\n",
      "  -1.32920239]\n",
      " [ 0.1249402  -0.48361547  1.0283258  ...  0.78447637  0.22061726\n",
      "  -1.30850006]\n",
      " ...\n",
      " [-0.40202987  0.99079651 -0.7415148  ... -0.71712291  0.07943894\n",
      "  -0.67776904]\n",
      " [-0.17292018 -0.48361547  1.24588095 ... -1.71818909 -0.98764362\n",
      "   0.42083466]\n",
      " [-0.40422614  2.04394792 -1.20161456 ... -1.30866202  0.23317118\n",
      "  -1.15392266]]\n"
     ]
    }
   ],
   "source": [
    "from sklearn.preprocessing import StandardScaler\n",
    "sc = StandardScaler()\n",
    "X_train = sc.fit_transform(X_train)\n",
    "X_test = sc.transform(X_test)\n",
    "print(X_train)"
   ]
  },
  {
   "cell_type": "markdown",
   "metadata": {},
   "source": [
    "❓ **Question** ❓ To get a sense of a benchmark score you have to beat, what is the mean absolute error on the test set if your dumb prediction corresponds to the mean value of $y$ computed on the train set?"
   ]
  },
  {
   "cell_type": "code",
   "execution_count": 6,
   "metadata": {},
   "outputs": [
    {
     "name": "stdout",
     "output_type": "stream",
     "text": [
      "MAE:  6.533042127742185\n"
     ]
    }
   ],
   "source": [
    "from sklearn.metrics import mean_absolute_error, mean_squared_error\n",
    "\n",
    "# calcul de la moyenne de y du train set\n",
    "y_train_mean = y_train.mean()\n",
    "\n",
    "# faire la prédiction du test set avec y_train_mean\n",
    "y_test_pred = np.ones(y_test.shape) * y_train_mean\n",
    "\n",
    "# Calcul de la MAE sur le test set\n",
    "mae = mean_absolute_error(y_test, y_test_pred)\n",
    "print(\"MAE: \", mae)\n",
    "\n"
   ]
  },
  {
   "cell_type": "markdown",
   "metadata": {},
   "source": [
    "# 1. The model\n",
    "\n",
    "❓ **Question** ❓ Now, write a function `initialize_model` that generates a neural network with 3 layers: \n",
    "- a layer with 10 neurons and the `relu` activation function (choose the appropriate input dimension)\n",
    "- a layer with 7 neurons and the `relu` activation function\n",
    "- an appropriate layer corresponding to the problem at hand"
   ]
  },
  {
   "cell_type": "code",
   "execution_count": 7,
   "metadata": {},
   "outputs": [
    {
     "data": {
      "text/plain": [
       "<keras.engine.sequential.Sequential at 0x25b06690760>"
      ]
     },
     "execution_count": 7,
     "metadata": {},
     "output_type": "execute_result"
    }
   ],
   "source": [
    "from tensorflow.keras import models\n",
    "from tensorflow.keras import layers\n",
    "from tensorflow import keras\n",
    "from keras.layers import Dense, Activation\n",
    "from keras.models import Sequential\n",
    "\n",
    "def initialize_model():\n",
    "    model = Sequential()\n",
    "    model.add(Dense(10, input_dim=13, activation='relu'))\n",
    "    model.add(Dense(7, input_dim=13, activation='relu'))\n",
    "    model.add(Dense(1, 'relu'))\n",
    "    \n",
    "    return model\n",
    "\n",
    "model = initialize_model()\n",
    "model"
   ]
  },
  {
   "cell_type": "markdown",
   "metadata": {},
   "source": [
    "# 2. The optimizer\n",
    "\n",
    "❓ **Question** ❓ Write a function that :\n",
    "* takes as arguments a model and an optimizer, \n",
    "* `compiles` the model,\n",
    "* and returns the compiled model\n",
    "\n",
    "Please select the `loss function` to be optimized and  the `metrics` on which the model should be evaluated wisely."
   ]
  },
  {
   "cell_type": "code",
   "execution_count": 8,
   "metadata": {},
   "outputs": [
    {
     "name": "stdout",
     "output_type": "stream",
     "text": [
      "Epoch 1/200\n",
      "13/13 [==============================] - 1s 1ms/step - loss: 577.5433 - mae: 22.1699\n",
      "Epoch 2/200\n",
      "13/13 [==============================] - 0s 1ms/step - loss: 571.9853 - mae: 22.0416\n",
      "Epoch 3/200\n",
      "13/13 [==============================] - 0s 1ms/step - loss: 565.3459 - mae: 21.8843\n",
      "Epoch 4/200\n",
      "13/13 [==============================] - 0s 2ms/step - loss: 556.7142 - mae: 21.6810\n",
      "Epoch 5/200\n",
      "13/13 [==============================] - 0s 2ms/step - loss: 546.5627 - mae: 21.4403\n",
      "Epoch 6/200\n",
      "13/13 [==============================] - 0s 1ms/step - loss: 535.6338 - mae: 21.1704\n",
      "Epoch 7/200\n",
      "13/13 [==============================] - 0s 2ms/step - loss: 522.6882 - mae: 20.8565\n",
      "Epoch 8/200\n",
      "13/13 [==============================] - 0s 1ms/step - loss: 508.2989 - mae: 20.5121\n",
      "Epoch 9/200\n",
      "13/13 [==============================] - 0s 2ms/step - loss: 491.9899 - mae: 20.1179\n",
      "Epoch 10/200\n",
      "13/13 [==============================] - 0s 2ms/step - loss: 472.6956 - mae: 19.6710\n",
      "Epoch 11/200\n",
      "13/13 [==============================] - 0s 2ms/step - loss: 452.2836 - mae: 19.1658\n",
      "Epoch 12/200\n",
      "13/13 [==============================] - 0s 1ms/step - loss: 429.9767 - mae: 18.6094\n",
      "Epoch 13/200\n",
      "13/13 [==============================] - 0s 2ms/step - loss: 405.3998 - mae: 17.9792\n",
      "Epoch 14/200\n",
      "13/13 [==============================] - 0s 1ms/step - loss: 379.4592 - mae: 17.2831\n",
      "Epoch 15/200\n",
      "13/13 [==============================] - 0s 1ms/step - loss: 350.9901 - mae: 16.5268\n",
      "Epoch 16/200\n",
      "13/13 [==============================] - 0s 2ms/step - loss: 322.1738 - mae: 15.7351\n",
      "Epoch 17/200\n",
      "13/13 [==============================] - 0s 2ms/step - loss: 291.7736 - mae: 14.8891\n",
      "Epoch 18/200\n",
      "13/13 [==============================] - 0s 2ms/step - loss: 261.4453 - mae: 14.0239\n",
      "Epoch 19/200\n",
      "13/13 [==============================] - 0s 2ms/step - loss: 230.5601 - mae: 13.1198\n",
      "Epoch 20/200\n",
      "13/13 [==============================] - 0s 1ms/step - loss: 201.0292 - mae: 12.1879\n",
      "Epoch 21/200\n",
      "13/13 [==============================] - 0s 2ms/step - loss: 172.7110 - mae: 11.2595\n",
      "Epoch 22/200\n",
      "13/13 [==============================] - 0s 1ms/step - loss: 146.2801 - mae: 10.3118\n",
      "Epoch 23/200\n",
      "13/13 [==============================] - 0s 2ms/step - loss: 123.0749 - mae: 9.3791\n",
      "Epoch 24/200\n",
      "13/13 [==============================] - 0s 1ms/step - loss: 102.2102 - mae: 8.4310\n",
      "Epoch 25/200\n",
      "13/13 [==============================] - 0s 2ms/step - loss: 85.0299 - mae: 7.5389\n",
      "Epoch 26/200\n",
      "13/13 [==============================] - 0s 2ms/step - loss: 71.5505 - mae: 6.7396\n",
      "Epoch 27/200\n",
      "13/13 [==============================] - 0s 2ms/step - loss: 61.1803 - mae: 6.0725\n",
      "Epoch 28/200\n",
      "13/13 [==============================] - 0s 2ms/step - loss: 53.8627 - mae: 5.5925\n",
      "Epoch 29/200\n",
      "13/13 [==============================] - 0s 2ms/step - loss: 48.7879 - mae: 5.2598\n",
      "Epoch 30/200\n",
      "13/13 [==============================] - 0s 2ms/step - loss: 45.3314 - mae: 5.0238\n",
      "Epoch 31/200\n",
      "13/13 [==============================] - 0s 2ms/step - loss: 42.4884 - mae: 4.8468\n",
      "Epoch 32/200\n",
      "13/13 [==============================] - 0s 2ms/step - loss: 40.6609 - mae: 4.7211\n",
      "Epoch 33/200\n",
      "13/13 [==============================] - 0s 2ms/step - loss: 39.0982 - mae: 4.6031\n",
      "Epoch 34/200\n",
      "13/13 [==============================] - 0s 1ms/step - loss: 37.7628 - mae: 4.4964\n",
      "Epoch 35/200\n",
      "13/13 [==============================] - 0s 2ms/step - loss: 36.6540 - mae: 4.4050\n",
      "Epoch 36/200\n",
      "13/13 [==============================] - 0s 2ms/step - loss: 35.6415 - mae: 4.3180\n",
      "Epoch 37/200\n",
      "13/13 [==============================] - 0s 2ms/step - loss: 34.7781 - mae: 4.2555\n",
      "Epoch 38/200\n",
      "13/13 [==============================] - 0s 2ms/step - loss: 33.9155 - mae: 4.1889\n",
      "Epoch 39/200\n",
      "13/13 [==============================] - 0s 1ms/step - loss: 33.1711 - mae: 4.1334\n",
      "Epoch 40/200\n",
      "13/13 [==============================] - 0s 1ms/step - loss: 32.4841 - mae: 4.0859\n",
      "Epoch 41/200\n",
      "13/13 [==============================] - 0s 2ms/step - loss: 31.8630 - mae: 4.0327\n",
      "Epoch 42/200\n",
      "13/13 [==============================] - 0s 2ms/step - loss: 31.3311 - mae: 3.9904\n",
      "Epoch 43/200\n",
      "13/13 [==============================] - 0s 2ms/step - loss: 30.7686 - mae: 3.9492\n",
      "Epoch 44/200\n",
      "13/13 [==============================] - 0s 1ms/step - loss: 30.2838 - mae: 3.9165\n",
      "Epoch 45/200\n",
      "13/13 [==============================] - 0s 1ms/step - loss: 29.8199 - mae: 3.8815\n",
      "Epoch 46/200\n",
      "13/13 [==============================] - 0s 2ms/step - loss: 29.3878 - mae: 3.8483\n",
      "Epoch 47/200\n",
      "13/13 [==============================] - 0s 2ms/step - loss: 28.9705 - mae: 3.8171\n",
      "Epoch 48/200\n",
      "13/13 [==============================] - 0s 2ms/step - loss: 28.5785 - mae: 3.7899\n",
      "Epoch 49/200\n",
      "13/13 [==============================] - 0s 2ms/step - loss: 28.2755 - mae: 3.7802\n",
      "Epoch 50/200\n",
      "13/13 [==============================] - 0s 1ms/step - loss: 27.8286 - mae: 3.7473\n",
      "Epoch 51/200\n",
      "13/13 [==============================] - 0s 1ms/step - loss: 27.5041 - mae: 3.7176\n",
      "Epoch 52/200\n",
      "13/13 [==============================] - 0s 1ms/step - loss: 27.2086 - mae: 3.7018\n",
      "Epoch 53/200\n",
      "13/13 [==============================] - 0s 2ms/step - loss: 26.8216 - mae: 3.6744\n",
      "Epoch 54/200\n",
      "13/13 [==============================] - 0s 2ms/step - loss: 26.5124 - mae: 3.6543\n",
      "Epoch 55/200\n",
      "13/13 [==============================] - 0s 1ms/step - loss: 26.2191 - mae: 3.6333\n",
      "Epoch 56/200\n",
      "13/13 [==============================] - 0s 2ms/step - loss: 25.9173 - mae: 3.6091\n",
      "Epoch 57/200\n",
      "13/13 [==============================] - 0s 2ms/step - loss: 25.6264 - mae: 3.5846\n",
      "Epoch 58/200\n",
      "13/13 [==============================] - 0s 1ms/step - loss: 25.3681 - mae: 3.5677\n",
      "Epoch 59/200\n",
      "13/13 [==============================] - 0s 1ms/step - loss: 25.0589 - mae: 3.5512\n",
      "Epoch 60/200\n",
      "13/13 [==============================] - 0s 1ms/step - loss: 24.7810 - mae: 3.5301\n",
      "Epoch 61/200\n",
      "13/13 [==============================] - 0s 1ms/step - loss: 24.5446 - mae: 3.5141\n",
      "Epoch 62/200\n",
      "13/13 [==============================] - 0s 1ms/step - loss: 24.2623 - mae: 3.4983\n",
      "Epoch 63/200\n",
      "13/13 [==============================] - 0s 1ms/step - loss: 23.9716 - mae: 3.4745\n",
      "Epoch 64/200\n",
      "13/13 [==============================] - 0s 1ms/step - loss: 23.7174 - mae: 3.4557\n",
      "Epoch 65/200\n",
      "13/13 [==============================] - 0s 1ms/step - loss: 23.4484 - mae: 3.4392\n",
      "Epoch 66/200\n",
      "13/13 [==============================] - 0s 1000us/step - loss: 23.2461 - mae: 3.4258\n",
      "Epoch 67/200\n",
      "13/13 [==============================] - 0s 1ms/step - loss: 22.9756 - mae: 3.4137\n",
      "Epoch 68/200\n",
      "13/13 [==============================] - 0s 1ms/step - loss: 22.7282 - mae: 3.3924\n",
      "Epoch 69/200\n",
      "13/13 [==============================] - 0s 1ms/step - loss: 22.5237 - mae: 3.3762\n",
      "Epoch 70/200\n",
      "13/13 [==============================] - 0s 1ms/step - loss: 22.2927 - mae: 3.3654\n",
      "Epoch 71/200\n",
      "13/13 [==============================] - 0s 1ms/step - loss: 22.0631 - mae: 3.3507\n",
      "Epoch 72/200\n",
      "13/13 [==============================] - 0s 1ms/step - loss: 21.8414 - mae: 3.3349\n",
      "Epoch 73/200\n",
      "13/13 [==============================] - 0s 1ms/step - loss: 21.6534 - mae: 3.3151\n",
      "Epoch 74/200\n",
      "13/13 [==============================] - 0s 1ms/step - loss: 21.4331 - mae: 3.3001\n",
      "Epoch 75/200\n",
      "13/13 [==============================] - 0s 1ms/step - loss: 21.2095 - mae: 3.2873\n",
      "Epoch 76/200\n",
      "13/13 [==============================] - 0s 1ms/step - loss: 21.0051 - mae: 3.2782\n",
      "Epoch 77/200\n",
      "13/13 [==============================] - 0s 2ms/step - loss: 20.8118 - mae: 3.2671\n",
      "Epoch 78/200\n",
      "13/13 [==============================] - 0s 2ms/step - loss: 20.6058 - mae: 3.2511\n",
      "Epoch 79/200\n",
      "13/13 [==============================] - 0s 1ms/step - loss: 20.4112 - mae: 3.2349\n",
      "Epoch 80/200\n",
      "13/13 [==============================] - 0s 2ms/step - loss: 20.2551 - mae: 3.2292\n",
      "Epoch 81/200\n",
      "13/13 [==============================] - 0s 2ms/step - loss: 20.0236 - mae: 3.2056\n",
      "Epoch 82/200\n",
      "13/13 [==============================] - 0s 1ms/step - loss: 19.8261 - mae: 3.1910\n",
      "Epoch 83/200\n",
      "13/13 [==============================] - 0s 1ms/step - loss: 19.6486 - mae: 3.1780\n",
      "Epoch 84/200\n",
      "13/13 [==============================] - 0s 1ms/step - loss: 19.4402 - mae: 3.1670\n",
      "Epoch 85/200\n"
     ]
    },
    {
     "name": "stdout",
     "output_type": "stream",
     "text": [
      "13/13 [==============================] - 0s 998us/step - loss: 19.3082 - mae: 3.1604\n",
      "Epoch 86/200\n",
      "13/13 [==============================] - 0s 1ms/step - loss: 19.1006 - mae: 3.1455\n",
      "Epoch 87/200\n",
      "13/13 [==============================] - 0s 1ms/step - loss: 18.9327 - mae: 3.1284\n",
      "Epoch 88/200\n",
      "13/13 [==============================] - 0s 1ms/step - loss: 18.7749 - mae: 3.1091\n",
      "Epoch 89/200\n",
      "13/13 [==============================] - 0s 1ms/step - loss: 18.6105 - mae: 3.0962\n",
      "Epoch 90/200\n",
      "13/13 [==============================] - 0s 1ms/step - loss: 18.4193 - mae: 3.0809\n",
      "Epoch 91/200\n",
      "13/13 [==============================] - 0s 1ms/step - loss: 18.3080 - mae: 3.0756\n",
      "Epoch 92/200\n",
      "13/13 [==============================] - 0s 1ms/step - loss: 18.1294 - mae: 3.0662\n",
      "Epoch 93/200\n",
      "13/13 [==============================] - 0s 1ms/step - loss: 17.9298 - mae: 3.0444\n",
      "Epoch 94/200\n",
      "13/13 [==============================] - 0s 1ms/step - loss: 17.8029 - mae: 3.0317\n",
      "Epoch 95/200\n",
      "13/13 [==============================] - 0s 1ms/step - loss: 17.6364 - mae: 3.0152\n",
      "Epoch 96/200\n",
      "13/13 [==============================] - 0s 1ms/step - loss: 17.4904 - mae: 2.9993\n",
      "Epoch 97/200\n",
      "13/13 [==============================] - 0s 1ms/step - loss: 17.3432 - mae: 2.9886\n",
      "Epoch 98/200\n",
      "13/13 [==============================] - 0s 1ms/step - loss: 17.1979 - mae: 2.9798\n",
      "Epoch 99/200\n",
      "13/13 [==============================] - 0s 1ms/step - loss: 17.0128 - mae: 2.9683\n",
      "Epoch 100/200\n",
      "13/13 [==============================] - 0s 1ms/step - loss: 16.9069 - mae: 2.9679\n",
      "Epoch 101/200\n",
      "13/13 [==============================] - 0s 1ms/step - loss: 16.7364 - mae: 2.9527\n",
      "Epoch 102/200\n",
      "13/13 [==============================] - 0s 1ms/step - loss: 16.6329 - mae: 2.9405\n",
      "Epoch 103/200\n",
      "13/13 [==============================] - 0s 1ms/step - loss: 16.4783 - mae: 2.9324\n",
      "Epoch 104/200\n",
      "13/13 [==============================] - 0s 1ms/step - loss: 16.3230 - mae: 2.9220\n",
      "Epoch 105/200\n",
      "13/13 [==============================] - 0s 1ms/step - loss: 16.1828 - mae: 2.9016\n",
      "Epoch 106/200\n",
      "13/13 [==============================] - 0s 1ms/step - loss: 16.0281 - mae: 2.8928\n",
      "Epoch 107/200\n",
      "13/13 [==============================] - 0s 1ms/step - loss: 15.8930 - mae: 2.8875\n",
      "Epoch 108/200\n",
      "13/13 [==============================] - 0s 1ms/step - loss: 15.7386 - mae: 2.8748\n",
      "Epoch 109/200\n",
      "13/13 [==============================] - 0s 1ms/step - loss: 15.6025 - mae: 2.8594\n",
      "Epoch 110/200\n",
      "13/13 [==============================] - 0s 1ms/step - loss: 15.4755 - mae: 2.8487\n",
      "Epoch 111/200\n",
      "13/13 [==============================] - 0s 1ms/step - loss: 15.4096 - mae: 2.8426\n",
      "Epoch 112/200\n",
      "13/13 [==============================] - 0s 1ms/step - loss: 15.2255 - mae: 2.8174\n",
      "Epoch 113/200\n",
      "13/13 [==============================] - 0s 1ms/step - loss: 15.1036 - mae: 2.8130\n",
      "Epoch 114/200\n",
      "13/13 [==============================] - 0s 1ms/step - loss: 15.0065 - mae: 2.8106\n",
      "Epoch 115/200\n",
      "13/13 [==============================] - 0s 1ms/step - loss: 14.8958 - mae: 2.7971\n",
      "Epoch 116/200\n",
      "13/13 [==============================] - 0s 1ms/step - loss: 14.8043 - mae: 2.7909\n",
      "Epoch 117/200\n",
      "13/13 [==============================] - 0s 1ms/step - loss: 14.6323 - mae: 2.7800\n",
      "Epoch 118/200\n",
      "13/13 [==============================] - 0s 1ms/step - loss: 14.5369 - mae: 2.7695\n",
      "Epoch 119/200\n",
      "13/13 [==============================] - 0s 1ms/step - loss: 14.4785 - mae: 2.7579\n",
      "Epoch 120/200\n",
      "13/13 [==============================] - 0s 1ms/step - loss: 14.3220 - mae: 2.7473\n",
      "Epoch 121/200\n",
      "13/13 [==============================] - 0s 1ms/step - loss: 14.3011 - mae: 2.7531\n",
      "Epoch 122/200\n",
      "13/13 [==============================] - 0s 1ms/step - loss: 14.1074 - mae: 2.7370\n",
      "Epoch 123/200\n",
      "13/13 [==============================] - 0s 1ms/step - loss: 14.0116 - mae: 2.7199\n",
      "Epoch 124/200\n",
      "13/13 [==============================] - 0s 1ms/step - loss: 13.8982 - mae: 2.7099\n",
      "Epoch 125/200\n",
      "13/13 [==============================] - 0s 1ms/step - loss: 13.7724 - mae: 2.7007\n",
      "Epoch 126/200\n",
      "13/13 [==============================] - 0s 1ms/step - loss: 13.6731 - mae: 2.6935\n",
      "Epoch 127/200\n",
      "13/13 [==============================] - 0s 1ms/step - loss: 13.5653 - mae: 2.6865\n",
      "Epoch 128/200\n",
      "13/13 [==============================] - 0s 1ms/step - loss: 13.4584 - mae: 2.6838\n",
      "Epoch 129/200\n",
      "13/13 [==============================] - 0s 1ms/step - loss: 13.3605 - mae: 2.6800\n",
      "Epoch 130/200\n",
      "13/13 [==============================] - 0s 1ms/step - loss: 13.2594 - mae: 2.6716\n",
      "Epoch 131/200\n",
      "13/13 [==============================] - 0s 1ms/step - loss: 13.1566 - mae: 2.6627\n",
      "Epoch 132/200\n",
      "13/13 [==============================] - 0s 1ms/step - loss: 13.0521 - mae: 2.6529\n",
      "Epoch 133/200\n",
      "13/13 [==============================] - 0s 1ms/step - loss: 12.9600 - mae: 2.6439\n",
      "Epoch 134/200\n",
      "13/13 [==============================] - 0s 1ms/step - loss: 12.8694 - mae: 2.6332\n",
      "Epoch 135/200\n",
      "13/13 [==============================] - 0s 1ms/step - loss: 12.7596 - mae: 2.6240\n",
      "Epoch 136/200\n",
      "13/13 [==============================] - 0s 989us/step - loss: 12.6474 - mae: 2.6177\n",
      "Epoch 137/200\n",
      "13/13 [==============================] - 0s 1ms/step - loss: 12.5645 - mae: 2.6107\n",
      "Epoch 138/200\n",
      "13/13 [==============================] - 0s 1ms/step - loss: 12.4564 - mae: 2.6020\n",
      "Epoch 139/200\n",
      "13/13 [==============================] - 0s 1ms/step - loss: 12.3757 - mae: 2.5926\n",
      "Epoch 140/200\n",
      "13/13 [==============================] - 0s 1ms/step - loss: 12.2827 - mae: 2.5764\n",
      "Epoch 141/200\n",
      "13/13 [==============================] - 0s 1ms/step - loss: 12.2079 - mae: 2.5701\n",
      "Epoch 142/200\n",
      "13/13 [==============================] - 0s 1ms/step - loss: 12.1532 - mae: 2.5767\n",
      "Epoch 143/200\n",
      "13/13 [==============================] - 0s 2ms/step - loss: 12.0532 - mae: 2.5704\n",
      "Epoch 144/200\n",
      "13/13 [==============================] - 0s 2ms/step - loss: 11.9275 - mae: 2.5537\n",
      "Epoch 145/200\n",
      "13/13 [==============================] - 0s 2ms/step - loss: 11.8835 - mae: 2.5436\n",
      "Epoch 146/200\n",
      "13/13 [==============================] - 0s 2ms/step - loss: 11.7745 - mae: 2.5310\n",
      "Epoch 147/200\n",
      "13/13 [==============================] - 0s 2ms/step - loss: 11.7051 - mae: 2.5262\n",
      "Epoch 148/200\n",
      "13/13 [==============================] - 0s 1ms/step - loss: 11.6387 - mae: 2.5228\n",
      "Epoch 149/200\n",
      "13/13 [==============================] - 0s 2ms/step - loss: 11.5561 - mae: 2.5139\n",
      "Epoch 150/200\n",
      "13/13 [==============================] - 0s 2ms/step - loss: 11.5818 - mae: 2.5206\n",
      "Epoch 151/200\n",
      "13/13 [==============================] - 0s 1ms/step - loss: 11.4388 - mae: 2.5053\n",
      "Epoch 152/200\n",
      "13/13 [==============================] - 0s 1ms/step - loss: 11.3596 - mae: 2.4927\n",
      "Epoch 153/200\n",
      "13/13 [==============================] - 0s 1ms/step - loss: 11.3070 - mae: 2.4866\n",
      "Epoch 154/200\n",
      "13/13 [==============================] - 0s 999us/step - loss: 11.2398 - mae: 2.4773\n",
      "Epoch 155/200\n",
      "13/13 [==============================] - 0s 1ms/step - loss: 11.2086 - mae: 2.4707\n",
      "Epoch 156/200\n",
      "13/13 [==============================] - 0s 1000us/step - loss: 11.1081 - mae: 2.4624\n",
      "Epoch 157/200\n",
      "13/13 [==============================] - 0s 1ms/step - loss: 11.0645 - mae: 2.4620\n",
      "Epoch 158/200\n",
      "13/13 [==============================] - 0s 1ms/step - loss: 11.0169 - mae: 2.4514\n",
      "Epoch 159/200\n",
      "13/13 [==============================] - 0s 1ms/step - loss: 10.9670 - mae: 2.4507\n",
      "Epoch 160/200\n",
      "13/13 [==============================] - 0s 1ms/step - loss: 10.9293 - mae: 2.4359\n",
      "Epoch 161/200\n",
      "13/13 [==============================] - 0s 1ms/step - loss: 10.8314 - mae: 2.4281\n",
      "Epoch 162/200\n",
      "13/13 [==============================] - 0s 1ms/step - loss: 10.7897 - mae: 2.4327\n",
      "Epoch 163/200\n",
      "13/13 [==============================] - 0s 1ms/step - loss: 10.7209 - mae: 2.4226\n",
      "Epoch 164/200\n",
      "13/13 [==============================] - 0s 1ms/step - loss: 10.6763 - mae: 2.4135\n",
      "Epoch 165/200\n",
      "13/13 [==============================] - 0s 997us/step - loss: 10.6383 - mae: 2.4062\n",
      "Epoch 166/200\n",
      "13/13 [==============================] - 0s 1ms/step - loss: 10.5309 - mae: 2.3940\n",
      "Epoch 167/200\n",
      "13/13 [==============================] - 0s 1ms/step - loss: 10.5091 - mae: 2.4003\n",
      "Epoch 168/200\n",
      "13/13 [==============================] - 0s 1ms/step - loss: 10.5157 - mae: 2.4052\n",
      "Epoch 169/200\n"
     ]
    },
    {
     "name": "stdout",
     "output_type": "stream",
     "text": [
      "13/13 [==============================] - 0s 1ms/step - loss: 10.4289 - mae: 2.3882\n",
      "Epoch 170/200\n",
      "13/13 [==============================] - 0s 1ms/step - loss: 10.3430 - mae: 2.3764\n",
      "Epoch 171/200\n",
      "13/13 [==============================] - 0s 1000us/step - loss: 10.3127 - mae: 2.3767\n",
      "Epoch 172/200\n",
      "13/13 [==============================] - 0s 1ms/step - loss: 10.2486 - mae: 2.3688\n",
      "Epoch 173/200\n",
      "13/13 [==============================] - 0s 1000us/step - loss: 10.2180 - mae: 2.3624\n",
      "Epoch 174/200\n",
      "13/13 [==============================] - 0s 1ms/step - loss: 10.1554 - mae: 2.3537\n",
      "Epoch 175/200\n",
      "13/13 [==============================] - 0s 1000us/step - loss: 10.1278 - mae: 2.3487\n",
      "Epoch 176/200\n",
      "13/13 [==============================] - 0s 1ms/step - loss: 10.0931 - mae: 2.3463\n",
      "Epoch 177/200\n",
      "13/13 [==============================] - 0s 1ms/step - loss: 10.0488 - mae: 2.3464\n",
      "Epoch 178/200\n",
      "13/13 [==============================] - 0s 1ms/step - loss: 9.9902 - mae: 2.3395\n",
      "Epoch 179/200\n",
      "13/13 [==============================] - 0s 1ms/step - loss: 9.9501 - mae: 2.3357\n",
      "Epoch 180/200\n",
      "13/13 [==============================] - 0s 2ms/step - loss: 9.9146 - mae: 2.3281\n",
      "Epoch 181/200\n",
      "13/13 [==============================] - 0s 1ms/step - loss: 9.8862 - mae: 2.3257\n",
      "Epoch 182/200\n",
      "13/13 [==============================] - 0s 2ms/step - loss: 9.8419 - mae: 2.3173\n",
      "Epoch 183/200\n",
      "13/13 [==============================] - 0s 2ms/step - loss: 9.8124 - mae: 2.3141\n",
      "Epoch 184/200\n",
      "13/13 [==============================] - 0s 2ms/step - loss: 9.7711 - mae: 2.3150\n",
      "Epoch 185/200\n",
      "13/13 [==============================] - 0s 2ms/step - loss: 9.7422 - mae: 2.3055\n",
      "Epoch 186/200\n",
      "13/13 [==============================] - 0s 2ms/step - loss: 9.6777 - mae: 2.2986\n",
      "Epoch 187/200\n",
      "13/13 [==============================] - 0s 1ms/step - loss: 9.6752 - mae: 2.3011\n",
      "Epoch 188/200\n",
      "13/13 [==============================] - 0s 2ms/step - loss: 9.6306 - mae: 2.2982\n",
      "Epoch 189/200\n",
      "13/13 [==============================] - 0s 2ms/step - loss: 9.5955 - mae: 2.2946\n",
      "Epoch 190/200\n",
      "13/13 [==============================] - 0s 2ms/step - loss: 9.5604 - mae: 2.2906\n",
      "Epoch 191/200\n",
      "13/13 [==============================] - 0s 1ms/step - loss: 9.5560 - mae: 2.2834\n",
      "Epoch 192/200\n",
      "13/13 [==============================] - 0s 1ms/step - loss: 9.4842 - mae: 2.2744\n",
      "Epoch 193/200\n",
      "13/13 [==============================] - 0s 1ms/step - loss: 9.4343 - mae: 2.2733\n",
      "Epoch 194/200\n",
      "13/13 [==============================] - 0s 1ms/step - loss: 9.4407 - mae: 2.2755\n",
      "Epoch 195/200\n",
      "13/13 [==============================] - 0s 1ms/step - loss: 9.4114 - mae: 2.2739\n",
      "Epoch 196/200\n",
      "13/13 [==============================] - 0s 1ms/step - loss: 9.3579 - mae: 2.2634\n",
      "Epoch 197/200\n",
      "13/13 [==============================] - 0s 1ms/step - loss: 9.3388 - mae: 2.2554\n",
      "Epoch 198/200\n",
      "13/13 [==============================] - 0s 1ms/step - loss: 9.2967 - mae: 2.2481\n",
      "Epoch 199/200\n",
      "13/13 [==============================] - 0s 1ms/step - loss: 9.2827 - mae: 2.2545\n",
      "Epoch 200/200\n",
      "13/13 [==============================] - 0s 1ms/step - loss: 9.2690 - mae: 2.2603\n",
      "Model: \"sequential\"\n",
      "_________________________________________________________________\n",
      " Layer (type)                Output Shape              Param #   \n",
      "=================================================================\n",
      " dense (Dense)               (None, 10)                140       \n",
      "                                                                 \n",
      " dense_1 (Dense)             (None, 7)                 77        \n",
      "                                                                 \n",
      " dense_2 (Dense)             (None, 1)                 8         \n",
      "                                                                 \n",
      "=================================================================\n",
      "Total params: 225\n",
      "Trainable params: 225\n",
      "Non-trainable params: 0\n",
      "_________________________________________________________________\n",
      "None\n"
     ]
    }
   ],
   "source": [
    "def compile_model(model, optimizer_name):\n",
    "    model.compile(loss='mse', optimizer=optimizer_name, metrics= ['mae']) \n",
    "    return model\n",
    "\n",
    "compile_model(model, 'adam')\n",
    "model.fit(X_train, y_train, epochs=200)\n",
    "print(model.summary())"
   ]
  },
  {
   "cell_type": "markdown",
   "metadata": {},
   "source": [
    "❓ **Question** ❓ Initialize the model, compile it with the `adam` optimizer and fit it on the data. \n",
    "- Evaluate your model using an Early Stopping criterion."
   ]
  },
  {
   "cell_type": "code",
   "execution_count": 9,
   "metadata": {},
   "outputs": [
    {
     "name": "stdout",
     "output_type": "stream",
     "text": [
      "Epoch 1/200\n",
      "9/9 [==============================] - 0s 26ms/step - loss: 7.8175 - mae: 2.1837 - val_loss: 12.3998 - val_mae: 2.3896\n",
      "Epoch 2/200\n",
      "9/9 [==============================] - 0s 4ms/step - loss: 7.7900 - mae: 2.1668 - val_loss: 12.5365 - val_mae: 2.3977\n",
      "Epoch 3/200\n",
      "9/9 [==============================] - 0s 6ms/step - loss: 7.7377 - mae: 2.1560 - val_loss: 12.6442 - val_mae: 2.4076\n",
      "Epoch 4/200\n",
      "9/9 [==============================] - 0s 6ms/step - loss: 7.6965 - mae: 2.1505 - val_loss: 12.6726 - val_mae: 2.4152\n",
      "Epoch 5/200\n",
      "9/9 [==============================] - 0s 6ms/step - loss: 7.6568 - mae: 2.1464 - val_loss: 12.7338 - val_mae: 2.4241\n",
      "Epoch 6/200\n",
      "9/9 [==============================] - 0s 6ms/step - loss: 7.6162 - mae: 2.1433 - val_loss: 12.7724 - val_mae: 2.4340\n",
      "Epoch 7/200\n",
      "9/9 [==============================] - 0s 6ms/step - loss: 7.5834 - mae: 2.1389 - val_loss: 12.8272 - val_mae: 2.4434\n",
      "Epoch 8/200\n",
      "9/9 [==============================] - 0s 5ms/step - loss: 7.5696 - mae: 2.1385 - val_loss: 12.8147 - val_mae: 2.4418\n",
      "Epoch 9/200\n",
      "9/9 [==============================] - 0s 5ms/step - loss: 7.5555 - mae: 2.1368 - val_loss: 12.8896 - val_mae: 2.4452\n",
      "Epoch 10/200\n",
      "9/9 [==============================] - 0s 5ms/step - loss: 7.5005 - mae: 2.1293 - val_loss: 12.9010 - val_mae: 2.4558\n",
      "Epoch 11/200\n",
      "9/9 [==============================] - 0s 5ms/step - loss: 7.4771 - mae: 2.1232 - val_loss: 12.9223 - val_mae: 2.4501\n"
     ]
    },
    {
     "data": {
      "text/plain": [
       "<keras.callbacks.History at 0x25b080be220>"
      ]
     },
     "execution_count": 9,
     "metadata": {},
     "output_type": "execute_result"
    }
   ],
   "source": [
    "from tensorflow.keras.callbacks import EarlyStopping\n",
    "\n",
    "\n",
    "stop = EarlyStopping(monitor='val_loss', patience=10,  mode= 'min')\n",
    "\n",
    "model.fit(X_train, y_train, epochs=200, validation_split=0.3, callbacks=[stop])\n"
   ]
  },
  {
   "cell_type": "markdown",
   "metadata": {},
   "source": [
    "❓ **Question** ❓ Re-run the same model on the same data using different optimizers (in a `for` loop). \n",
    "\n",
    "For each optimizer, plot the history and report the corresponding Mean Absolute Error. (see [here](https://www.tensorflow.org/api_docs/python/tf/keras/optimizers)), as well as the time it took to fit your Neural Net."
   ]
  },
  {
   "cell_type": "code",
   "execution_count": 10,
   "metadata": {},
   "outputs": [],
   "source": [
    "def plot_loss_mae(history):\n",
    "    fig, (ax1, ax2) = plt.subplots(1,2, figsize=(13,4))\n",
    "    ax1.plot(history.history['loss'])\n",
    "    ax1.plot(history.history['val_loss'])\n",
    "    ax1.set_title('Model loss')\n",
    "    ax1.set_ylabel('Loss')\n",
    "    ax1.set_xlabel('Epoch')\n",
    "    ax1.set_ylim(ymin=0, ymax=200)\n",
    "    ax1.legend(['Train', 'Validation'], loc='best')\n",
    "    ax1.grid(axis=\"x\",linewidth=0.5)\n",
    "    ax1.grid(axis=\"y\",linewidth=0.5)    \n",
    "    \n",
    "    ax2.plot(history.history['mae'])\n",
    "    ax2.plot(history.history['val_mae'])\n",
    "    ax2.set_title('MAE')\n",
    "    ax2.set_ylabel('MAE')\n",
    "    ax2.set_xlabel('Epoch')\n",
    "    ax2.set_ylim(ymin=0, ymax=20)\n",
    "    ax2.legend(['Train', 'Validation'], loc='best')\n",
    "    ax2.grid(axis=\"x\",linewidth=0.5)\n",
    "    ax2.grid(axis=\"y\",linewidth=0.5)    \n",
    "\n",
    "    plt.show()\n",
    "\n",
    "def plot_loss_mse(history):\n",
    "    fig, (ax1, ax2) = plt.subplots(1,2, figsize=(13,4))\n",
    "    ax1.plot(history.history['loss'])\n",
    "    ax1.plot(history.history['val_loss'])\n",
    "    ax1.set_title('Model loss')\n",
    "    ax1.set_ylabel('Loss')\n",
    "    ax1.set_xlabel('Epoch')\n",
    "    ax1.set_ylim(ymin=0, ymax=20)\n",
    "    ax1.legend(['Train', 'Validation'], loc='best')\n",
    "    ax1.grid(axis=\"x\",linewidth=0.5)\n",
    "    ax1.grid(axis=\"y\",linewidth=0.5)    \n",
    "\n",
    "    \n",
    "    ax2.plot(history.history['mse'])\n",
    "    ax2.plot(history.history['val_mse'])\n",
    "    ax2.set_title('MSE')\n",
    "    ax2.set_ylabel('MSE')\n",
    "    ax2.set_xlabel('Epoch')\n",
    "    ax2.set_ylim(ymin=0, ymax=200)\n",
    "    ax2.legend(['Train', 'Validation'], loc='best')\n",
    "    ax2.grid(axis=\"x\",linewidth=0.5)\n",
    "    ax2.grid(axis=\"y\",linewidth=0.5)    \n",
    "\n",
    "    plt.show()"
   ]
  },
  {
   "cell_type": "code",
   "execution_count": 11,
   "metadata": {
    "tags": [
     "delete"
    ]
   },
   "outputs": [
    {
     "name": "stdout",
     "output_type": "stream",
     "text": [
      "4/4 [==============================] - 0s 2ms/step - loss: 16.9965 - mae: 2.7409\n",
      "MAE with the rmsprop optimizer: 2.7409  reached in 13 s after 248 epochs\n"
     ]
    },
    {
     "data": {
      "image/png": "[encoded data removed]",
      "text/plain": [
       "<Figure size 936x288 with 2 Axes>"
      ]
     },
     "metadata": {
      "needs_background": "light"
     },
     "output_type": "display_data"
    },
    {
     "name": "stdout",
     "output_type": "stream",
     "text": [
      "4/4 [==============================] - 0s 1ms/step - loss: 20.6396 - mae: 3.0365\n",
      "MAE with the adam optimizer: 3.0365  reached in 10 s after 181 epochs\n"
     ]
    },
    {
     "data": {
      "image/png": "[encoded data removed]",
      "text/plain": [
       "<Figure size 936x288 with 2 Axes>"
      ]
     },
     "metadata": {
      "needs_background": "light"
     },
     "output_type": "display_data"
    },
    {
     "name": "stdout",
     "output_type": "stream",
     "text": [
      "4/4 [==============================] - 0s 2ms/step - loss: 335.1832 - mae: 15.9189\n",
      "MAE with the adagrad optimizer: 15.9189  reached in 24 s after 500 epochs\n"
     ]
    },
    {
     "data": {
      "image/png": "[encoded data removed]",
      "text/plain": [
       "<Figure size 936x288 with 2 Axes>"
      ]
     },
     "metadata": {
      "needs_background": "light"
     },
     "output_type": "display_data"
    },
    {
     "name": "stdout",
     "output_type": "stream",
     "text": [
      "<keras.callbacks.History object at 0x0000025B0BABF790>\n"
     ]
    }
   ],
   "source": [
    "import time\n",
    "\n",
    "for optimizer in ['rmsprop', 'adam', 'adagrad']:\n",
    "    start_time = time.time()\n",
    "    model = initialize_model()\n",
    "    model = compile_model(model, optimizer)\n",
    "\n",
    "    es = EarlyStopping(patience=10, restore_best_weights=True)\n",
    "\n",
    "    history = model.fit(X_train, y_train, \n",
    "                      batch_size=16, \n",
    "                      epochs=500, \n",
    "                      validation_split=0.3,\n",
    "                      callbacks=[es], verbose=0)\n",
    "\n",
    "    res = model.evaluate(X_test, y_test)[1]\n",
    "    end_time = time.time()\n",
    "\n",
    "    print(f'MAE with the {optimizer} optimizer: {res:.4f}  reached in {(end_time - start_time):.0f} s after {len(history.epoch)} epochs')\n",
    "    plot_loss_mae(history)\n",
    "    \n",
    "\n",
    "    \n",
    "print (history)"
   ]
  },
  {
   "cell_type": "markdown",
   "metadata": {},
   "source": [
    "❓ **Question** ❓ Are your predictions better than the benchmark model you've evaluated at the beginning of the notebook?"
   ]
  },
  {
   "cell_type": "markdown",
   "metadata": {},
   "source": [
    "❗ **Remark** ❗ \n",
    "- Here, the optimizer is may not be central as the data are in low dimensions and and there are not many samples. However, in practice, you are advised to start with the `adam` optimizer by default which often works best. \n",
    "\n",
    "- Internally, when you call any optimizer with a string, the neural network initializes the hyperparameters the optimizer relies on. Among this hyperparameters, there is quite an important one, the **`learning rate`**. This learning rate corresponds to the intensity of change of the weights at each optimization of the neural network. Different learning rates have different consequences, as shown here : \n",
    "\n",
    "<img src=\"learning_rate.png\" alt=\"Learning rate\" style=\"height:350px;\"/>\n",
    "\n",
    "\n",
    "As the learning rate is initialized with default values when you compile the model optimizer with a string, let's see how to do it differently.\n",
    "\n",
    "\n",
    "❓ **Question** ❓ Instead of initializing the optimizer with a string, we will initialize a real optimizer directly. Look at the documentation of [adam](https://www.tensorflow.org/api_docs/python/tf/keras/optimizers/Adam) and instantiate it with a learning rate of $0.1$ - keep the other values to their default values. Use this optimizer in the `compile_model` function, fit the data and plot the history"
   ]
  },
  {
   "cell_type": "code",
   "execution_count": 12,
   "metadata": {
    "tags": [
     "challengify"
    ]
   },
   "outputs": [
    {
     "name": "stderr",
     "output_type": "stream",
     "text": [
      "C:\\ProgramData\\Anaconda3\\lib\\site-packages\\keras\\optimizers\\optimizer_v2\\adam.py:117: UserWarning: The `lr` argument is deprecated, use `learning_rate` instead.\n",
      "  super().__init__(name, **kwargs)\n"
     ]
    },
    {
     "data": {
      "text/plain": [
       "<keras.engine.sequential.Sequential at 0x25b0ba658e0>"
      ]
     },
     "execution_count": 12,
     "metadata": {},
     "output_type": "execute_result"
    }
   ],
   "source": [
    "from keras.optimizers import Adam\n",
    "\n",
    "def compile_model(model, optimizer_name):\n",
    "    model.compile(loss='mse', optimizer=optimizer_name, metrics= ['mae']) \n",
    "    return model\n",
    "\n",
    "optimizer = Adam(lr=0.1)\n",
    "compile_model(model, optimizer)"
   ]
  },
  {
   "cell_type": "markdown",
   "metadata": {},
   "source": [
    "❓ **Question** ❓ Now, reproduce the same plots and results but for different learning rates.\n",
    "\n",
    "*Remark*: There is a chance that the y-axis is too large for you to visualize the results. In that case, rewrite the plot function to plot only the epochs > 10."
   ]
  },
  {
   "cell_type": "code",
   "execution_count": 13,
   "metadata": {},
   "outputs": [
    {
     "name": "stdout",
     "output_type": "stream",
     "text": [
      "4/4 [==============================] - 0s 2ms/step - loss: 21.7831 - mae: 3.6112\n",
      "MAE with the <keras.optimizers.optimizer_v2.adam.Adam object at 0x0000025B0BB99C40> optimizer: 3.6112  reached in 25 s after 500 epochs\n"
     ]
    },
    {
     "data": {
      "image/png": "[encoded data removed]",
      "text/plain": [
       "<Figure size 936x288 with 2 Axes>"
      ]
     },
     "metadata": {
      "needs_background": "light"
     },
     "output_type": "display_data"
    },
    {
     "name": "stdout",
     "output_type": "stream",
     "text": [
      "4/4 [==============================] - 0s 3ms/step - loss: 22.0993 - mae: 3.1381\n",
      "MAE with the <keras.optimizers.optimizer_v2.adam.Adam object at 0x0000025B0CD64FD0> optimizer: 3.1381  reached in 12 s after 228 epochs\n"
     ]
    },
    {
     "data": {
      "image/png": "[encoded data removed]",
      "text/plain": [
       "<Figure size 936x288 with 2 Axes>"
      ]
     },
     "metadata": {
      "needs_background": "light"
     },
     "output_type": "display_data"
    },
    {
     "name": "stdout",
     "output_type": "stream",
     "text": [
      "4/4 [==============================] - 0s 3ms/step - loss: 615.8578 - mae: 23.0784\n",
      "MAE with the <keras.optimizers.optimizer_v2.adam.Adam object at 0x0000025B0D1A7FD0> optimizer: 23.0784  reached in 1 s after 11 epochs\n"
     ]
    },
    {
     "data": {
      "image/png": "[encoded data removed]",
      "text/plain": [
       "<Figure size 936x288 with 2 Axes>"
      ]
     },
     "metadata": {
      "needs_background": "light"
     },
     "output_type": "display_data"
    },
    {
     "name": "stdout",
     "output_type": "stream",
     "text": [
      "4/4 [==============================] - 0s 3ms/step - loss: 19.7040 - mae: 2.8947\n",
      "MAE with the <keras.optimizers.optimizer_v2.adam.Adam object at 0x0000025B0E55BC40> optimizer: 2.8947  reached in 2 s after 25 epochs\n"
     ]
    },
    {
     "data": {
      "image/png": "[encoded data removed]",
      "text/plain": [
       "<Figure size 936x288 with 2 Axes>"
      ]
     },
     "metadata": {
      "needs_background": "light"
     },
     "output_type": "display_data"
    },
    {
     "name": "stdout",
     "output_type": "stream",
     "text": [
      "4/4 [==============================] - 0s 1ms/step - loss: 615.8578 - mae: 23.0784\n",
      "MAE with the <keras.optimizers.optimizer_v2.adam.Adam object at 0x0000025B0E74DC40> optimizer: 23.0784  reached in 1 s after 11 epochs\n"
     ]
    },
    {
     "data": {
      "image/png": "[encoded data removed]",
      "text/plain": [
       "<Figure size 936x288 with 2 Axes>"
      ]
     },
     "metadata": {
      "needs_background": "light"
     },
     "output_type": "display_data"
    },
    {
     "name": "stdout",
     "output_type": "stream",
     "text": [
      "4/4 [==============================] - 0s 1ms/step - loss: 615.8578 - mae: 23.0784\n",
      "MAE with the <keras.optimizers.optimizer_v2.adam.Adam object at 0x0000025B094533D0> optimizer: 23.0784  reached in 1 s after 11 epochs\n"
     ]
    },
    {
     "data": {
      "image/png": "[encoded data removed]",
      "text/plain": [
       "<Figure size 936x288 with 2 Axes>"
      ]
     },
     "metadata": {
      "needs_background": "light"
     },
     "output_type": "display_data"
    }
   ],
   "source": [
    "learning_rates = [0.0001, 0.001, 0.01, 0.1, 1, 5]\n",
    "\n",
    "for lr in learning_rates:\n",
    "    optimizer = Adam(lr=lr)\n",
    "    start_time = time.time()\n",
    "    model = initialize_model()\n",
    "    model = compile_model(model, optimizer)\n",
    "\n",
    "    es = EarlyStopping(patience=10, restore_best_weights=True)\n",
    "\n",
    "    history = model.fit(X_train, y_train, \n",
    "                      batch_size=16, \n",
    "                      epochs=500, \n",
    "                      validation_split=0.3,\n",
    "                      callbacks=[es], verbose=0)\n",
    "\n",
    "    res = model.evaluate(X_test, y_test)[1]\n",
    "    end_time = time.time()\n",
    "\n",
    "    print(f'MAE with the {optimizer} optimizer: {res:.4f}  reached in {(end_time - start_time):.0f} s after {len(history.epoch)} epochs')\n",
    "    plot_loss_mae(history)\n",
    "   "
   ]
  },
  {
   "cell_type": "markdown",
   "metadata": {},
   "source": [
    "# 3. The loss\n",
    "\n",
    "⚠️ It is important to **clearly understand the different between metrics and losses**. \n",
    "\n",
    "* The `loss functions` are computed *during* the training procedure\n",
    "* The `metrics` are computed *after* training your models !\n",
    "* Some metrics can be used as loss functions too... as long as they are differentiable ! (e.g. the *MSE*)\n",
    "\n",
    "❓ **Question** ❓ Run the same neural network, once with the `mae` as the loss, and once with the `mse`.  \n",
    "\n",
    "In both case, compare `mae_train`, `mae_val`, `mse_train`, `mse_val` and conclude."
   ]
  },
  {
   "cell_type": "code",
   "execution_count": 18,
   "metadata": {},
   "outputs": [
    {
     "name": "stdout",
     "output_type": "stream",
     "text": [
      "MAE - Train: 21.9688, Validation: 23.3803\n",
      "MSE - Train: 558.3328, Validation: 650.4835\n"
     ]
    },
    {
     "data": {
      "image/png": "[encoded data removed]",
      "text/plain": [
       "<Figure size 432x288 with 1 Axes>"
      ]
     },
     "metadata": {
      "needs_background": "light"
     },
     "output_type": "display_data"
    },
    {
     "data": {
      "image/png": "[encoded data removed]",
      "text/plain": [
       "<Figure size 432x288 with 1 Axes>"
      ]
     },
     "metadata": {
      "needs_background": "light"
     },
     "output_type": "display_data"
    }
   ],
   "source": [
    "optimizer = Adam(lr=0.1)\n",
    "es = EarlyStopping(patience=10, restore_best_weights=True)\n",
    "\n",
    "# Execute le modèle avec \"mae\" comme loss fonction\n",
    "model.compile(loss='mean_absolute_error', optimizer=optimizer, metrics=['mae'])\n",
    "history_mae = model.fit(X_train, y_train, epochs=200, batch_size=16, validation_split=0.3, callbacks=[es], verbose=0)\n",
    "\n",
    "# Execute le modèle avec \"mse\" comme loss fonction\n",
    "model.compile(loss='mean_squared_error', optimizer=optimizer, metrics=['mse'])\n",
    "history_mse = model.fit(X_train, y_train, epochs=200, batch_size=16, validation_split=0.3, callbacks=[es], verbose=0)\n",
    "\n",
    "# Compare les performances d'entrainement et de validation\n",
    "mae_train_mae, mae_val_mae = history_mae.history['mae'], history_mae.history['val_mae']\n",
    "mse_train_mse, mse_val_mse = history_mse.history['mse'], history_mse.history['val_mse']\n",
    "\n",
    "print(f'MAE - Train: {mae_train_mae[-1]:.4f}, Validation: {mae_val_mae[-1]:.4f}')\n",
    "print(f'MSE - Train: {mse_train_mse[-1]:.4f}, Validation: {mse_val_mse[-1]:.4f}')\n",
    "\n",
    "plt.plot(history_mae.history['val_mae'], label='val_mae')\n",
    "plt.plot(history_mae.history['mae'], label='mae')\n",
    "plt.title('MAE')\n",
    "plt.ylabel('MAE')\n",
    "plt.xlabel('Epoch')\n",
    "plt.legend(['Validation', 'Train'], loc='upper right')\n",
    "plt.show()\n",
    "\n",
    "plt.plot(history_mse.history['val_mse'], label='val_mse')\n",
    "plt.plot(history_mse.history['mse'], label='mse')\n",
    "plt.title('MSE')\n",
    "plt.ylabel('MSE')\n",
    "plt.xlabel('Epoch')\n",
    "plt.legend(['Validation', 'Train'], loc='upper right')\n",
    "plt.show()"
   ]
  },
  {
   "cell_type": "markdown",
   "metadata": {},
   "source": [
    "❗️ Countrary to first intuition, it can be sometimes better to use the MSE as the loss function in order to get the best MAE possible in the end!\n",
    "\n",
    "<details>\n",
    "    <summary>▶ Why?</summary>\n",
    "\n",
    "Well, even the Deep Learning research community is still trying to answer these types of questions rigorously.\n",
    "    \n",
    "One thing for sure: In Deep Learning, you will never really reach the \"global minimum\" of the true loss function (the one computed using your entire training set as one single \"batch\"). So, in your first model (minimizing the MAE loss), your global MAE minimum has clearly **not** been reached (otherwise you could never beat it). \n",
    "\n",
    "Why? It may well be that the minimization process of the second model has performed better. Maybe because the loss function \"energy map\" is \"smoother\" or more \"convex\" in the case of MSE loss? Or maybe your hyper-parameter are best suited to the MSE than to the MAE loss?\n",
    "\n",
    "</details>"
   ]
  },
  {
   "cell_type": "markdown",
   "metadata": {},
   "source": [
    "### 🧪 Test your model best performance\n",
    "\n",
    "❓ Save your best model performance on the test set at `mae_test` and check it out below"
   ]
  },
  {
   "cell_type": "code",
   "execution_count": 15,
   "metadata": {},
   "outputs": [
    {
     "name": "stdout",
     "output_type": "stream",
     "text": [
      "Epoch 1/100\n",
      " 1/13 [=>............................] - ETA: 7s - loss: 21.3500 - mae: 21.3500\n",
      "Epoch 1: val_mae improved from inf to 23.07843, saving model to best_model.h5\n",
      "13/13 [==============================] - 1s 15ms/step - loss: 22.3950 - mae: 22.3950 - val_loss: 23.0784 - val_mae: 23.0784\n",
      "Epoch 2/100\n",
      " 1/13 [=>............................] - ETA: 0s - loss: 19.5094 - mae: 19.5094\n",
      "Epoch 2: val_mae did not improve from 23.07843\n",
      "13/13 [==============================] - 0s 4ms/step - loss: 22.3950 - mae: 22.3950 - val_loss: 23.0784 - val_mae: 23.0784\n",
      "Epoch 3/100\n",
      " 1/13 [=>............................] - ETA: 0s - loss: 23.1844 - mae: 23.1844\n",
      "Epoch 3: val_mae did not improve from 23.07843\n",
      "13/13 [==============================] - 0s 4ms/step - loss: 22.3951 - mae: 22.3951 - val_loss: 23.0784 - val_mae: 23.0784\n",
      "Epoch 4/100\n",
      " 1/13 [=>............................] - ETA: 0s - loss: 22.6531 - mae: 22.6531\n",
      "Epoch 4: val_mae did not improve from 23.07843\n",
      "13/13 [==============================] - 0s 4ms/step - loss: 22.3951 - mae: 22.3951 - val_loss: 23.0784 - val_mae: 23.0784\n",
      "Epoch 5/100\n",
      " 1/13 [=>............................] - ETA: 0s - loss: 21.3438 - mae: 21.3438\n",
      "Epoch 5: val_mae did not improve from 23.07843\n",
      "13/13 [==============================] - 0s 4ms/step - loss: 22.3951 - mae: 22.3951 - val_loss: 23.0784 - val_mae: 23.0784\n",
      "Epoch 6/100\n",
      " 1/13 [=>............................] - ETA: 0s - loss: 22.1187 - mae: 22.1187\n",
      "Epoch 6: val_mae did not improve from 23.07843\n",
      "13/13 [==============================] - 0s 4ms/step - loss: 22.3950 - mae: 22.3950 - val_loss: 23.0784 - val_mae: 23.0784\n",
      "Epoch 7/100\n",
      " 1/13 [=>............................] - ETA: 0s - loss: 23.7000 - mae: 23.7000\n",
      "Epoch 7: val_mae did not improve from 23.07843\n",
      "13/13 [==============================] - 0s 4ms/step - loss: 22.3950 - mae: 22.3950 - val_loss: 23.0784 - val_mae: 23.0784\n",
      "Epoch 8/100\n",
      " 1/13 [=>............................] - ETA: 0s - loss: 22.9062 - mae: 22.9062\n",
      "Epoch 8: val_mae did not improve from 23.07843\n",
      "13/13 [==============================] - 0s 4ms/step - loss: 22.3950 - mae: 22.3950 - val_loss: 23.0784 - val_mae: 23.0784\n",
      "Epoch 9/100\n",
      " 1/13 [=>............................] - ETA: 0s - loss: 24.3406 - mae: 24.3406\n",
      "Epoch 9: val_mae did not improve from 23.07843\n",
      "13/13 [==============================] - 0s 4ms/step - loss: 22.3950 - mae: 22.3950 - val_loss: 23.0784 - val_mae: 23.0784\n",
      "Epoch 10/100\n",
      " 1/13 [=>............................] - ETA: 0s - loss: 23.4781 - mae: 23.4781\n",
      "Epoch 10: val_mae did not improve from 23.07843\n",
      "13/13 [==============================] - 0s 4ms/step - loss: 22.3950 - mae: 22.3950 - val_loss: 23.0784 - val_mae: 23.0784\n",
      "Epoch 11/100\n",
      " 1/13 [=>............................] - ETA: 0s - loss: 21.4188 - mae: 21.4188\n",
      "Epoch 11: val_mae did not improve from 23.07843\n",
      "13/13 [==============================] - 0s 4ms/step - loss: 22.3951 - mae: 22.3951 - val_loss: 23.0784 - val_mae: 23.0784\n",
      "Epoch 12/100\n",
      " 1/13 [=>............................] - ETA: 0s - loss: 21.5312 - mae: 21.5312\n",
      "Epoch 12: val_mae did not improve from 23.07843\n",
      "13/13 [==============================] - 0s 4ms/step - loss: 22.3951 - mae: 22.3951 - val_loss: 23.0784 - val_mae: 23.0784\n",
      "Epoch 13/100\n",
      " 1/13 [=>............................] - ETA: 0s - loss: 21.9469 - mae: 21.9469\n",
      "Epoch 13: val_mae did not improve from 23.07843\n",
      "13/13 [==============================] - 0s 4ms/step - loss: 22.3951 - mae: 22.3951 - val_loss: 23.0784 - val_mae: 23.0784\n",
      "Epoch 14/100\n",
      " 1/13 [=>............................] - ETA: 0s - loss: 20.9625 - mae: 20.9625\n",
      "Epoch 14: val_mae did not improve from 23.07843\n",
      "13/13 [==============================] - 0s 4ms/step - loss: 22.3950 - mae: 22.3950 - val_loss: 23.0784 - val_mae: 23.0784\n",
      "Epoch 15/100\n",
      " 1/13 [=>............................] - ETA: 0s - loss: 23.5438 - mae: 23.5438\n",
      "Epoch 15: val_mae did not improve from 23.07843\n",
      "13/13 [==============================] - 0s 4ms/step - loss: 22.3951 - mae: 22.3951 - val_loss: 23.0784 - val_mae: 23.0784\n",
      "Epoch 16/100\n",
      " 1/13 [=>............................] - ETA: 0s - loss: 23.8281 - mae: 23.8281\n",
      "Epoch 16: val_mae did not improve from 23.07843\n",
      "13/13 [==============================] - 0s 4ms/step - loss: 22.3950 - mae: 22.3950 - val_loss: 23.0784 - val_mae: 23.0784\n",
      "Epoch 17/100\n",
      " 1/13 [=>............................] - ETA: 0s - loss: 20.4625 - mae: 20.4625\n",
      "Epoch 17: val_mae did not improve from 23.07843\n",
      "13/13 [==============================] - 0s 4ms/step - loss: 22.3951 - mae: 22.3951 - val_loss: 23.0784 - val_mae: 23.0784\n",
      "Epoch 18/100\n",
      " 1/13 [=>............................] - ETA: 0s - loss: 22.2844 - mae: 22.2844\n",
      "Epoch 18: val_mae did not improve from 23.07843\n",
      "13/13 [==============================] - 0s 4ms/step - loss: 22.3950 - mae: 22.3950 - val_loss: 23.0784 - val_mae: 23.0784\n",
      "Epoch 19/100\n",
      " 1/13 [=>............................] - ETA: 0s - loss: 21.0969 - mae: 21.0969\n",
      "Epoch 19: val_mae did not improve from 23.07843\n",
      "13/13 [==============================] - 0s 4ms/step - loss: 22.3951 - mae: 22.3951 - val_loss: 23.0784 - val_mae: 23.0784\n",
      "Epoch 20/100\n",
      " 1/13 [=>............................] - ETA: 0s - loss: 21.7812 - mae: 21.7812\n",
      "Epoch 20: val_mae did not improve from 23.07843\n",
      "13/13 [==============================] - 0s 4ms/step - loss: 22.3950 - mae: 22.3950 - val_loss: 23.0784 - val_mae: 23.0784\n",
      "Epoch 21/100\n",
      " 1/13 [=>............................] - ETA: 0s - loss: 20.9094 - mae: 20.9094\n",
      "Epoch 21: val_mae did not improve from 23.07843\n",
      "13/13 [==============================] - 0s 4ms/step - loss: 22.3950 - mae: 22.3950 - val_loss: 23.0784 - val_mae: 23.0784\n",
      "Epoch 22/100\n",
      " 1/13 [=>............................] - ETA: 0s - loss: 23.7656 - mae: 23.7656\n",
      "Epoch 22: val_mae did not improve from 23.07843\n",
      "13/13 [==============================] - 0s 4ms/step - loss: 22.3951 - mae: 22.3951 - val_loss: 23.0784 - val_mae: 23.0784\n",
      "Epoch 23/100\n",
      " 1/13 [=>............................] - ETA: 0s - loss: 22.2500 - mae: 22.2500\n",
      "Epoch 23: val_mae did not improve from 23.07843\n",
      "13/13 [==============================] - 0s 4ms/step - loss: 22.3950 - mae: 22.3950 - val_loss: 23.0784 - val_mae: 23.0784\n",
      "Epoch 24/100\n",
      " 1/13 [=>............................] - ETA: 0s - loss: 24.4531 - mae: 24.4531\n",
      "Epoch 24: val_mae did not improve from 23.07843\n",
      "13/13 [==============================] - 0s 4ms/step - loss: 22.3950 - mae: 22.3950 - val_loss: 23.0784 - val_mae: 23.0784\n",
      "Epoch 25/100\n",
      " 1/13 [=>............................] - ETA: 0s - loss: 21.0875 - mae: 21.0875\n",
      "Epoch 25: val_mae did not improve from 23.07843\n",
      "13/13 [==============================] - 0s 3ms/step - loss: 22.3950 - mae: 22.3950 - val_loss: 23.0784 - val_mae: 23.0784\n",
      "Epoch 26/100\n",
      " 1/13 [=>............................] - ETA: 0s - loss: 25.0000 - mae: 25.0000\n",
      "Epoch 26: val_mae did not improve from 23.07843\n",
      "13/13 [==============================] - 0s 4ms/step - loss: 22.3951 - mae: 22.3951 - val_loss: 23.0784 - val_mae: 23.0784\n",
      "Epoch 27/100\n",
      " 1/13 [=>............................] - ETA: 0s - loss: 21.8406 - mae: 21.8406\n",
      "Epoch 27: val_mae did not improve from 23.07843\n",
      "13/13 [==============================] - 0s 4ms/step - loss: 22.3950 - mae: 22.3950 - val_loss: 23.0784 - val_mae: 23.0784\n",
      "Epoch 28/100\n",
      " 1/13 [=>............................] - ETA: 0s - loss: 22.9500 - mae: 22.9500\n",
      "Epoch 28: val_mae did not improve from 23.07843\n",
      "13/13 [==============================] - 0s 3ms/step - loss: 22.3950 - mae: 22.3950 - val_loss: 23.0784 - val_mae: 23.0784\n",
      "Epoch 29/100\n",
      " 1/13 [=>............................] - ETA: 0s - loss: 21.3094 - mae: 21.3094\n",
      "Epoch 29: val_mae did not improve from 23.07843\n",
      "13/13 [==============================] - 0s 4ms/step - loss: 22.3950 - mae: 22.3950 - val_loss: 23.0784 - val_mae: 23.0784\n",
      "Epoch 30/100\n",
      " 1/13 [=>............................] - ETA: 0s - loss: 23.2125 - mae: 23.2125\n",
      "Epoch 30: val_mae did not improve from 23.07843\n",
      "13/13 [==============================] - 0s 4ms/step - loss: 22.3951 - mae: 22.3951 - val_loss: 23.0784 - val_mae: 23.0784\n",
      "Epoch 31/100\n",
      " 1/13 [=>............................] - ETA: 0s - loss: 22.0000 - mae: 22.0000\n",
      "Epoch 31: val_mae did not improve from 23.07843\n",
      "13/13 [==============================] - 0s 4ms/step - loss: 22.3950 - mae: 22.3950 - val_loss: 23.0784 - val_mae: 23.0784\n"
     ]
    },
    {
     "name": "stdout",
     "output_type": "stream",
     "text": [
      "Epoch 32/100\n",
      " 1/13 [=>............................] - ETA: 0s - loss: 22.3781 - mae: 22.3781\n",
      "Epoch 32: val_mae did not improve from 23.07843\n",
      "13/13 [==============================] - 0s 4ms/step - loss: 22.3950 - mae: 22.3950 - val_loss: 23.0784 - val_mae: 23.0784\n",
      "Epoch 33/100\n",
      " 1/13 [=>............................] - ETA: 0s - loss: 21.7687 - mae: 21.7687\n",
      "Epoch 33: val_mae did not improve from 23.07843\n",
      "13/13 [==============================] - 0s 4ms/step - loss: 22.3950 - mae: 22.3950 - val_loss: 23.0784 - val_mae: 23.0784\n",
      "Epoch 34/100\n",
      " 1/13 [=>............................] - ETA: 0s - loss: 21.3031 - mae: 21.3031\n",
      "Epoch 34: val_mae did not improve from 23.07843\n",
      "13/13 [==============================] - 0s 3ms/step - loss: 22.3951 - mae: 22.3951 - val_loss: 23.0784 - val_mae: 23.0784\n",
      "Epoch 35/100\n",
      " 1/13 [=>............................] - ETA: 0s - loss: 21.1844 - mae: 21.1844\n",
      "Epoch 35: val_mae did not improve from 23.07843\n",
      "13/13 [==============================] - 0s 3ms/step - loss: 22.3950 - mae: 22.3950 - val_loss: 23.0784 - val_mae: 23.0784\n",
      "Epoch 36/100\n",
      " 1/13 [=>............................] - ETA: 0s - loss: 24.1938 - mae: 24.1938\n",
      "Epoch 36: val_mae did not improve from 23.07843\n",
      "13/13 [==============================] - 0s 3ms/step - loss: 22.3950 - mae: 22.3950 - val_loss: 23.0784 - val_mae: 23.0784\n",
      "Epoch 37/100\n",
      " 1/13 [=>............................] - ETA: 0s - loss: 24.6531 - mae: 24.6531\n",
      "Epoch 37: val_mae did not improve from 23.07843\n",
      "13/13 [==============================] - 0s 3ms/step - loss: 22.3950 - mae: 22.3950 - val_loss: 23.0784 - val_mae: 23.0784\n",
      "Epoch 38/100\n",
      " 1/13 [=>............................] - ETA: 0s - loss: 18.7594 - mae: 18.7594\n",
      "Epoch 38: val_mae did not improve from 23.07843\n",
      "13/13 [==============================] - 0s 3ms/step - loss: 22.3950 - mae: 22.3950 - val_loss: 23.0784 - val_mae: 23.0784\n",
      "Epoch 39/100\n",
      " 1/13 [=>............................] - ETA: 0s - loss: 22.7781 - mae: 22.7781\n",
      "Epoch 39: val_mae did not improve from 23.07843\n",
      "13/13 [==============================] - 0s 4ms/step - loss: 22.3950 - mae: 22.3950 - val_loss: 23.0784 - val_mae: 23.0784\n",
      "Epoch 40/100\n",
      " 1/13 [=>............................] - ETA: 0s - loss: 23.1562 - mae: 23.1562\n",
      "Epoch 40: val_mae did not improve from 23.07843\n",
      "13/13 [==============================] - 0s 3ms/step - loss: 22.3951 - mae: 22.3951 - val_loss: 23.0784 - val_mae: 23.0784\n",
      "Epoch 41/100\n",
      " 1/13 [=>............................] - ETA: 0s - loss: 26.2875 - mae: 26.2875\n",
      "Epoch 41: val_mae did not improve from 23.07843\n",
      "13/13 [==============================] - 0s 4ms/step - loss: 22.3951 - mae: 22.3951 - val_loss: 23.0784 - val_mae: 23.0784\n",
      "Epoch 42/100\n",
      " 1/13 [=>............................] - ETA: 0s - loss: 20.4219 - mae: 20.4219\n",
      "Epoch 42: val_mae did not improve from 23.07843\n",
      "13/13 [==============================] - 0s 4ms/step - loss: 22.3951 - mae: 22.3951 - val_loss: 23.0784 - val_mae: 23.0784\n",
      "Epoch 43/100\n",
      " 1/13 [=>............................] - ETA: 0s - loss: 22.5875 - mae: 22.5875\n",
      "Epoch 43: val_mae did not improve from 23.07843\n",
      "13/13 [==============================] - 0s 4ms/step - loss: 22.3951 - mae: 22.3951 - val_loss: 23.0784 - val_mae: 23.0784\n",
      "Epoch 44/100\n",
      " 1/13 [=>............................] - ETA: 0s - loss: 23.1437 - mae: 23.1437\n",
      "Epoch 44: val_mae did not improve from 23.07843\n",
      "13/13 [==============================] - 0s 4ms/step - loss: 22.3951 - mae: 22.3951 - val_loss: 23.0784 - val_mae: 23.0784\n",
      "Epoch 45/100\n",
      " 1/13 [=>............................] - ETA: 0s - loss: 21.6094 - mae: 21.6094\n",
      "Epoch 45: val_mae did not improve from 23.07843\n",
      "13/13 [==============================] - 0s 4ms/step - loss: 22.3950 - mae: 22.3950 - val_loss: 23.0784 - val_mae: 23.0784\n",
      "Epoch 46/100\n",
      " 1/13 [=>............................] - ETA: 0s - loss: 25.2188 - mae: 25.2188\n",
      "Epoch 46: val_mae did not improve from 23.07843\n",
      "13/13 [==============================] - 0s 4ms/step - loss: 22.3950 - mae: 22.3950 - val_loss: 23.0784 - val_mae: 23.0784\n",
      "Epoch 47/100\n",
      " 1/13 [=>............................] - ETA: 0s - loss: 24.0281 - mae: 24.0281\n",
      "Epoch 47: val_mae did not improve from 23.07843\n",
      "13/13 [==============================] - 0s 4ms/step - loss: 22.3950 - mae: 22.3950 - val_loss: 23.0784 - val_mae: 23.0784\n",
      "Epoch 48/100\n",
      " 1/13 [=>............................] - ETA: 0s - loss: 19.7406 - mae: 19.7406\n",
      "Epoch 48: val_mae did not improve from 23.07843\n",
      "13/13 [==============================] - 0s 4ms/step - loss: 22.3950 - mae: 22.3950 - val_loss: 23.0784 - val_mae: 23.0784\n",
      "Epoch 49/100\n",
      " 1/13 [=>............................] - ETA: 0s - loss: 22.5094 - mae: 22.5094\n",
      "Epoch 49: val_mae did not improve from 23.07843\n",
      "13/13 [==============================] - 0s 4ms/step - loss: 22.3950 - mae: 22.3950 - val_loss: 23.0784 - val_mae: 23.0784\n",
      "Epoch 50/100\n",
      " 1/13 [=>............................] - ETA: 0s - loss: 21.3312 - mae: 21.3312\n",
      "Epoch 50: val_mae did not improve from 23.07843\n",
      "13/13 [==============================] - 0s 4ms/step - loss: 22.3951 - mae: 22.3951 - val_loss: 23.0784 - val_mae: 23.0784\n",
      "Epoch 51/100\n",
      " 1/13 [=>............................] - ETA: 0s - loss: 22.7750 - mae: 22.7750\n",
      "Epoch 51: val_mae did not improve from 23.07843\n",
      "13/13 [==============================] - 0s 4ms/step - loss: 22.3950 - mae: 22.3950 - val_loss: 23.0784 - val_mae: 23.0784\n",
      "Epoch 52/100\n",
      " 1/13 [=>............................] - ETA: 0s - loss: 22.1375 - mae: 22.1375\n",
      "Epoch 52: val_mae did not improve from 23.07843\n",
      "13/13 [==============================] - 0s 3ms/step - loss: 22.3950 - mae: 22.3950 - val_loss: 23.0784 - val_mae: 23.0784\n",
      "Epoch 53/100\n",
      " 1/13 [=>............................] - ETA: 0s - loss: 22.2219 - mae: 22.2219\n",
      "Epoch 53: val_mae did not improve from 23.07843\n",
      "13/13 [==============================] - 0s 3ms/step - loss: 22.3950 - mae: 22.3950 - val_loss: 23.0784 - val_mae: 23.0784\n",
      "Epoch 54/100\n",
      " 1/13 [=>............................] - ETA: 0s - loss: 23.8344 - mae: 23.8344\n",
      "Epoch 54: val_mae did not improve from 23.07843\n",
      "13/13 [==============================] - 0s 3ms/step - loss: 22.3950 - mae: 22.3950 - val_loss: 23.0784 - val_mae: 23.0784\n",
      "Epoch 55/100\n",
      " 1/13 [=>............................] - ETA: 0s - loss: 21.5250 - mae: 21.5250\n",
      "Epoch 55: val_mae did not improve from 23.07843\n",
      "13/13 [==============================] - 0s 4ms/step - loss: 22.3950 - mae: 22.3950 - val_loss: 23.0784 - val_mae: 23.0784\n",
      "Epoch 56/100\n",
      " 1/13 [=>............................] - ETA: 0s - loss: 24.4969 - mae: 24.4969\n",
      "Epoch 56: val_mae did not improve from 23.07843\n",
      "13/13 [==============================] - 0s 4ms/step - loss: 22.3951 - mae: 22.3951 - val_loss: 23.0784 - val_mae: 23.0784\n",
      "Epoch 57/100\n",
      " 1/13 [=>............................] - ETA: 0s - loss: 24.1344 - mae: 24.1344\n",
      "Epoch 57: val_mae did not improve from 23.07843\n",
      "13/13 [==============================] - 0s 3ms/step - loss: 22.3951 - mae: 22.3951 - val_loss: 23.0784 - val_mae: 23.0784\n",
      "Epoch 58/100\n",
      " 1/13 [=>............................] - ETA: 0s - loss: 21.7406 - mae: 21.7406\n",
      "Epoch 58: val_mae did not improve from 23.07843\n",
      "13/13 [==============================] - 0s 3ms/step - loss: 22.3951 - mae: 22.3951 - val_loss: 23.0784 - val_mae: 23.0784\n",
      "Epoch 59/100\n",
      " 1/13 [=>............................] - ETA: 0s - loss: 22.9250 - mae: 22.9250\n",
      "Epoch 59: val_mae did not improve from 23.07843\n",
      "13/13 [==============================] - 0s 3ms/step - loss: 22.3950 - mae: 22.3950 - val_loss: 23.0784 - val_mae: 23.0784\n",
      "Epoch 60/100\n",
      " 1/13 [=>............................] - ETA: 0s - loss: 26.1406 - mae: 26.1406\n",
      "Epoch 60: val_mae did not improve from 23.07843\n",
      "13/13 [==============================] - 0s 3ms/step - loss: 22.3950 - mae: 22.3950 - val_loss: 23.0784 - val_mae: 23.0784\n",
      "Epoch 61/100\n",
      " 1/13 [=>............................] - ETA: 0s - loss: 20.8906 - mae: 20.8906\n",
      "Epoch 61: val_mae did not improve from 23.07843\n",
      "13/13 [==============================] - 0s 4ms/step - loss: 22.3950 - mae: 22.3950 - val_loss: 23.0784 - val_mae: 23.0784\n",
      "Epoch 62/100\n",
      " 1/13 [=>............................] - ETA: 0s - loss: 22.2500 - mae: 22.2500\n",
      "Epoch 62: val_mae did not improve from 23.07843\n",
      "13/13 [==============================] - 0s 4ms/step - loss: 22.3950 - mae: 22.3950 - val_loss: 23.0784 - val_mae: 23.0784\n",
      "Epoch 63/100\n"
     ]
    },
    {
     "name": "stdout",
     "output_type": "stream",
     "text": [
      " 1/13 [=>............................] - ETA: 0s - loss: 22.9375 - mae: 22.9375\n",
      "Epoch 63: val_mae did not improve from 23.07843\n",
      "13/13 [==============================] - 0s 4ms/step - loss: 22.3951 - mae: 22.3951 - val_loss: 23.0784 - val_mae: 23.0784\n",
      "Epoch 64/100\n",
      " 1/13 [=>............................] - ETA: 0s - loss: 23.7594 - mae: 23.7594\n",
      "Epoch 64: val_mae did not improve from 23.07843\n",
      "13/13 [==============================] - 0s 4ms/step - loss: 22.3950 - mae: 22.3950 - val_loss: 23.0784 - val_mae: 23.0784\n",
      "Epoch 65/100\n",
      " 1/13 [=>............................] - ETA: 0s - loss: 23.4312 - mae: 23.4312\n",
      "Epoch 65: val_mae did not improve from 23.07843\n",
      "13/13 [==============================] - 0s 4ms/step - loss: 22.3951 - mae: 22.3951 - val_loss: 23.0784 - val_mae: 23.0784\n",
      "Epoch 66/100\n",
      " 1/13 [=>............................] - ETA: 0s - loss: 22.5969 - mae: 22.5969\n",
      "Epoch 66: val_mae did not improve from 23.07843\n",
      "13/13 [==============================] - 0s 4ms/step - loss: 22.3950 - mae: 22.3950 - val_loss: 23.0784 - val_mae: 23.0784\n",
      "Epoch 67/100\n",
      " 1/13 [=>............................] - ETA: 0s - loss: 22.2094 - mae: 22.2094\n",
      "Epoch 67: val_mae did not improve from 23.07843\n",
      "13/13 [==============================] - 0s 4ms/step - loss: 22.3950 - mae: 22.3950 - val_loss: 23.0784 - val_mae: 23.0784\n",
      "Epoch 68/100\n",
      " 1/13 [=>............................] - ETA: 0s - loss: 21.0187 - mae: 21.0187\n",
      "Epoch 68: val_mae did not improve from 23.07843\n",
      "13/13 [==============================] - 0s 4ms/step - loss: 22.3951 - mae: 22.3951 - val_loss: 23.0784 - val_mae: 23.0784\n",
      "Epoch 69/100\n",
      " 1/13 [=>............................] - ETA: 0s - loss: 21.3781 - mae: 21.3781\n",
      "Epoch 69: val_mae did not improve from 23.07843\n",
      "13/13 [==============================] - 0s 4ms/step - loss: 22.3950 - mae: 22.3950 - val_loss: 23.0784 - val_mae: 23.0784\n",
      "Epoch 70/100\n",
      " 1/13 [=>............................] - ETA: 0s - loss: 22.7000 - mae: 22.7000\n",
      "Epoch 70: val_mae did not improve from 23.07843\n",
      "13/13 [==============================] - 0s 3ms/step - loss: 22.3950 - mae: 22.3950 - val_loss: 23.0784 - val_mae: 23.0784\n",
      "Epoch 71/100\n",
      " 1/13 [=>............................] - ETA: 0s - loss: 20.9281 - mae: 20.9281\n",
      "Epoch 71: val_mae did not improve from 23.07843\n",
      "13/13 [==============================] - 0s 3ms/step - loss: 22.3951 - mae: 22.3951 - val_loss: 23.0784 - val_mae: 23.0784\n",
      "Epoch 72/100\n",
      " 1/13 [=>............................] - ETA: 0s - loss: 21.0031 - mae: 21.0031\n",
      "Epoch 72: val_mae did not improve from 23.07843\n",
      "13/13 [==============================] - 0s 3ms/step - loss: 22.3950 - mae: 22.3950 - val_loss: 23.0784 - val_mae: 23.0784\n",
      "Epoch 73/100\n",
      " 1/13 [=>............................] - ETA: 0s - loss: 21.9969 - mae: 21.9969\n",
      "Epoch 73: val_mae did not improve from 23.07843\n",
      "13/13 [==============================] - 0s 3ms/step - loss: 22.3951 - mae: 22.3951 - val_loss: 23.0784 - val_mae: 23.0784\n",
      "Epoch 74/100\n",
      " 1/13 [=>............................] - ETA: 0s - loss: 22.1562 - mae: 22.1562\n",
      "Epoch 74: val_mae did not improve from 23.07843\n",
      "13/13 [==============================] - 0s 4ms/step - loss: 22.3951 - mae: 22.3951 - val_loss: 23.0784 - val_mae: 23.0784\n",
      "Epoch 75/100\n",
      " 1/13 [=>............................] - ETA: 0s - loss: 22.3594 - mae: 22.3594\n",
      "Epoch 75: val_mae did not improve from 23.07843\n",
      "13/13 [==============================] - 0s 3ms/step - loss: 22.3951 - mae: 22.3951 - val_loss: 23.0784 - val_mae: 23.0784\n",
      "Epoch 76/100\n",
      " 1/13 [=>............................] - ETA: 0s - loss: 19.6781 - mae: 19.6781\n",
      "Epoch 76: val_mae did not improve from 23.07843\n",
      "13/13 [==============================] - 0s 3ms/step - loss: 22.3950 - mae: 22.3950 - val_loss: 23.0784 - val_mae: 23.0784\n",
      "Epoch 77/100\n",
      " 1/13 [=>............................] - ETA: 0s - loss: 23.3094 - mae: 23.3094\n",
      "Epoch 77: val_mae did not improve from 23.07843\n",
      "13/13 [==============================] - 0s 3ms/step - loss: 22.3951 - mae: 22.3951 - val_loss: 23.0784 - val_mae: 23.0784\n",
      "Epoch 78/100\n",
      " 1/13 [=>............................] - ETA: 0s - loss: 23.4500 - mae: 23.4500\n",
      "Epoch 78: val_mae did not improve from 23.07843\n",
      "13/13 [==============================] - 0s 3ms/step - loss: 22.3951 - mae: 22.3951 - val_loss: 23.0784 - val_mae: 23.0784\n",
      "Epoch 79/100\n",
      " 1/13 [=>............................] - ETA: 0s - loss: 24.1781 - mae: 24.1781\n",
      "Epoch 79: val_mae did not improve from 23.07843\n",
      "13/13 [==============================] - 0s 3ms/step - loss: 22.3951 - mae: 22.3951 - val_loss: 23.0784 - val_mae: 23.0784\n",
      "Epoch 80/100\n",
      " 1/13 [=>............................] - ETA: 0s - loss: 20.3281 - mae: 20.3281\n",
      "Epoch 80: val_mae did not improve from 23.07843\n",
      "13/13 [==============================] - 0s 4ms/step - loss: 22.3950 - mae: 22.3950 - val_loss: 23.0784 - val_mae: 23.0784\n",
      "Epoch 81/100\n",
      " 1/13 [=>............................] - ETA: 0s - loss: 20.8500 - mae: 20.8500\n",
      "Epoch 81: val_mae did not improve from 23.07843\n",
      "13/13 [==============================] - 0s 3ms/step - loss: 22.3950 - mae: 22.3950 - val_loss: 23.0784 - val_mae: 23.0784\n",
      "Epoch 82/100\n",
      " 1/13 [=>............................] - ETA: 0s - loss: 20.4688 - mae: 20.4688\n",
      "Epoch 82: val_mae did not improve from 23.07843\n",
      "13/13 [==============================] - 0s 3ms/step - loss: 22.3950 - mae: 22.3950 - val_loss: 23.0784 - val_mae: 23.0784\n",
      "Epoch 83/100\n",
      " 1/13 [=>............................] - ETA: 0s - loss: 23.5750 - mae: 23.5750\n",
      "Epoch 83: val_mae did not improve from 23.07843\n",
      "13/13 [==============================] - 0s 4ms/step - loss: 22.3951 - mae: 22.3951 - val_loss: 23.0784 - val_mae: 23.0784\n",
      "Epoch 84/100\n",
      " 1/13 [=>............................] - ETA: 0s - loss: 24.9719 - mae: 24.9719\n",
      "Epoch 84: val_mae did not improve from 23.07843\n",
      "13/13 [==============================] - 0s 3ms/step - loss: 22.3951 - mae: 22.3951 - val_loss: 23.0784 - val_mae: 23.0784\n",
      "Epoch 85/100\n",
      " 1/13 [=>............................] - ETA: 0s - loss: 21.6375 - mae: 21.6375\n",
      "Epoch 85: val_mae did not improve from 23.07843\n",
      "13/13 [==============================] - 0s 3ms/step - loss: 22.3950 - mae: 22.3950 - val_loss: 23.0784 - val_mae: 23.0784\n",
      "Epoch 86/100\n",
      " 1/13 [=>............................] - ETA: 0s - loss: 21.2125 - mae: 21.2125\n",
      "Epoch 86: val_mae did not improve from 23.07843\n",
      "13/13 [==============================] - 0s 3ms/step - loss: 22.3950 - mae: 22.3950 - val_loss: 23.0784 - val_mae: 23.0784\n",
      "Epoch 87/100\n",
      " 1/13 [=>............................] - ETA: 0s - loss: 22.6500 - mae: 22.6500\n",
      "Epoch 87: val_mae did not improve from 23.07843\n",
      "13/13 [==============================] - 0s 4ms/step - loss: 22.3951 - mae: 22.3951 - val_loss: 23.0784 - val_mae: 23.0784\n",
      "Epoch 88/100\n",
      " 1/13 [=>............................] - ETA: 0s - loss: 19.7594 - mae: 19.7594\n",
      "Epoch 88: val_mae did not improve from 23.07843\n",
      "13/13 [==============================] - 0s 3ms/step - loss: 22.3950 - mae: 22.3950 - val_loss: 23.0784 - val_mae: 23.0784\n",
      "Epoch 89/100\n",
      " 1/13 [=>............................] - ETA: 0s - loss: 22.9250 - mae: 22.9250\n",
      "Epoch 89: val_mae did not improve from 23.07843\n",
      "13/13 [==============================] - 0s 4ms/step - loss: 22.3950 - mae: 22.3950 - val_loss: 23.0784 - val_mae: 23.0784\n",
      "Epoch 90/100\n",
      " 1/13 [=>............................] - ETA: 0s - loss: 22.1281 - mae: 22.1281\n",
      "Epoch 90: val_mae did not improve from 23.07843\n",
      "13/13 [==============================] - 0s 3ms/step - loss: 22.3950 - mae: 22.3950 - val_loss: 23.0784 - val_mae: 23.0784\n",
      "Epoch 91/100\n",
      " 1/13 [=>............................] - ETA: 0s - loss: 22.4406 - mae: 22.4406\n",
      "Epoch 91: val_mae did not improve from 23.07843\n",
      "13/13 [==============================] - 0s 3ms/step - loss: 22.3950 - mae: 22.3950 - val_loss: 23.0784 - val_mae: 23.0784\n",
      "Epoch 92/100\n",
      " 1/13 [=>............................] - ETA: 0s - loss: 20.0563 - mae: 20.0563\n",
      "Epoch 92: val_mae did not improve from 23.07843\n",
      "13/13 [==============================] - 0s 3ms/step - loss: 22.3951 - mae: 22.3951 - val_loss: 23.0784 - val_mae: 23.0784\n",
      "Epoch 93/100\n",
      " 1/13 [=>............................] - ETA: 0s - loss: 24.1875 - mae: 24.1875\n",
      "Epoch 93: val_mae did not improve from 23.07843\n",
      "13/13 [==============================] - 0s 3ms/step - loss: 22.3950 - mae: 22.3950 - val_loss: 23.0784 - val_mae: 23.0784\n",
      "Epoch 94/100\n"
     ]
    },
    {
     "name": "stdout",
     "output_type": "stream",
     "text": [
      " 1/13 [=>............................] - ETA: 0s - loss: 21.5875 - mae: 21.5875\n",
      "Epoch 94: val_mae did not improve from 23.07843\n",
      "13/13 [==============================] - 0s 3ms/step - loss: 22.3951 - mae: 22.3951 - val_loss: 23.0784 - val_mae: 23.0784\n",
      "Epoch 95/100\n",
      " 1/13 [=>............................] - ETA: 0s - loss: 22.4688 - mae: 22.4688\n",
      "Epoch 95: val_mae did not improve from 23.07843\n",
      "13/13 [==============================] - 0s 3ms/step - loss: 22.3950 - mae: 22.3950 - val_loss: 23.0784 - val_mae: 23.0784\n",
      "Epoch 96/100\n",
      " 1/13 [=>............................] - ETA: 0s - loss: 23.3219 - mae: 23.3219\n",
      "Epoch 96: val_mae did not improve from 23.07843\n",
      "13/13 [==============================] - 0s 3ms/step - loss: 22.3951 - mae: 22.3951 - val_loss: 23.0784 - val_mae: 23.0784\n",
      "Epoch 97/100\n",
      " 1/13 [=>............................] - ETA: 0s - loss: 25.1313 - mae: 25.1313\n",
      "Epoch 97: val_mae did not improve from 23.07843\n",
      "13/13 [==============================] - 0s 3ms/step - loss: 22.3950 - mae: 22.3950 - val_loss: 23.0784 - val_mae: 23.0784\n",
      "Epoch 98/100\n",
      " 1/13 [=>............................] - ETA: 0s - loss: 22.7281 - mae: 22.7281\n",
      "Epoch 98: val_mae did not improve from 23.07843\n",
      "13/13 [==============================] - 0s 3ms/step - loss: 22.3950 - mae: 22.3950 - val_loss: 23.0784 - val_mae: 23.0784\n",
      "Epoch 99/100\n",
      " 1/13 [=>............................] - ETA: 0s - loss: 23.3313 - mae: 23.3313\n",
      "Epoch 99: val_mae did not improve from 23.07843\n",
      "13/13 [==============================] - 0s 3ms/step - loss: 22.3951 - mae: 22.3951 - val_loss: 23.0784 - val_mae: 23.0784\n",
      "Epoch 100/100\n",
      " 1/13 [=>............................] - ETA: 0s - loss: 24.0531 - mae: 24.0531\n",
      "Epoch 100: val_mae did not improve from 23.07843\n",
      "13/13 [==============================] - 0s 3ms/step - loss: 22.3951 - mae: 22.3951 - val_loss: 23.0784 - val_mae: 23.0784\n"
     ]
    }
   ],
   "source": [
    "# import des librairies\n",
    "from keras.models import load_model\n",
    "from keras.callbacks import ModelCheckpoint\n",
    "\n",
    "model.compile(loss='mean_absolute_error', optimizer='adam', metrics=['mae'])\n",
    "\n",
    "# Definie un ModelCheckpoint pour sauvegarder le meilleur modèle des jeux de test\n",
    "checkpointer = ModelCheckpoint(filepath='best_model.h5', \n",
    "                               verbose=1, save_best_only=True, \n",
    "                               monitor='val_mae', mode='min')\n",
    "\n",
    "\n",
    "history = model.fit(X_train, y_train, epochs=100, batch_size=32, validation_data=(X_test, y_test), callbacks=[checkpointer])"
   ]
  },
  {
   "cell_type": "markdown",
   "metadata": {},
   "source": [
    "# 4 : Save and load a model\n",
    "\n",
    "❓ **Question** ❓  Save your model using `.save_model(model, 'name_of_my_model')` method that you can find [here](https://www.tensorflow.org/api_docs/python/tf/keras/models/save_model).."
   ]
  },
  {
   "cell_type": "markdown",
   "metadata": {},
   "source": [
    "❓ **Question** ❓ Now, in a variable that you will call `loaded_model`, load the model you just saved thanks to `.load_model('name_of_your_model')` [(documentation here)](https://www.tensorflow.org/api_docs/python/tf/keras/models/load_model), and evaluate it on the test data to check that it gives the same result as before."
   ]
  },
  {
   "cell_type": "code",
   "execution_count": 16,
   "metadata": {
    "tags": [
     "challengify"
    ]
   },
   "outputs": [
    {
     "name": "stdout",
     "output_type": "stream",
     "text": [
      "Best MAE on test set: 23.0784\n"
     ]
    }
   ],
   "source": [
    "best_model = load_model('best_model.h5')\n",
    "test_mae = best_model.evaluate(X_test, y_test, verbose=0)[1]\n",
    "print(f'Best MAE on test set: {test_mae:.4f}')"
   ]
  },
  {
   "cell_type": "markdown",
   "metadata": {},
   "source": [
    "## (Optional) `Exponential Decay` for the Optimizer's Learning Rate\n",
    "\n",
    "The next question is not essential and can be skipped as many algorithms can be run without such optimization. \n",
    "\n",
    "Instead of keeping a fixed learning rate, you can change it from one iteration to the other, with the intuition that at first, you need large learning rates, and as the neural network converges and get closer to the minimum loss value, you can decrease the value of the learning rate. This is called a **`scheduler`**. \n",
    "\n",
    "❓ **Question** ❓ Use the [Exponential Decay Scheduler](https://www.tensorflow.org/api_docs/python/tf/keras/optimizers/schedules/ExponentialDecay) in the `adam` optimizer and run it on the previous data. Start with the following:\n",
    "\n",
    "```python\n",
    "initial_learning_rate = 0.001 # start with default ADAM value\n",
    "\n",
    "lr_schedule = ExponentialDecay(\n",
    "    # Every 5000 iterations, multiply the learning rate by 0.7\n",
    "    initial_learning_rate, decay_steps=5000, decay_rate=0.7,\n",
    ")\n",
    "```"
   ]
  },
  {
   "cell_type": "code",
   "execution_count": 17,
   "metadata": {},
   "outputs": [],
   "source": [
    "# YOUR CODE HERE"
   ]
  },
  {
   "cell_type": "code",
   "execution_count": null,
   "metadata": {},
   "outputs": [],
   "source": []
  },
  {
   "cell_type": "code",
   "execution_count": null,
   "metadata": {},
   "outputs": [],
   "source": []
  }
 ],
 "metadata": {
  "kernelspec": {
   "display_name": "Python 3 (ipykernel)",
   "language": "python",
   "name": "python3"
  },
  "language_info": {
   "codemirror_mode": {
    "name": "ipython",
    "version": 3
   },
   "file_extension": ".py",
   "mimetype": "text/x-python",
   "name": "python",
   "nbconvert_exporter": "python",
   "pygments_lexer": "ipython3",
   "version": "3.9.12"
  }
 },
 "nbformat": 4,
 "nbformat_minor": 2
}
